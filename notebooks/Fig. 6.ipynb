{
 "cells": [
  {
   "cell_type": "code",
   "execution_count": 39,
   "metadata": {},
   "outputs": [],
   "source": [
    "import pandas as pd\n",
    "import os\n",
    "import seaborn as sns\n",
    "import numpy as np\n",
    "import matplotlib.pyplot as plt\n",
    "\n",
    "# define cmaps for viruses\n",
    "hsv1_palette = sns.light_palette((168/256, 97/256, 92/256), reverse=True, as_cmap=True)\n",
    "hcmv_palette = sns.light_palette((71/256, 103/256, 133/256), reverse=True, as_cmap=True)\n",
    "kshv_palette = sns.light_palette((113/256, 175/256, 71/256), reverse=True, as_cmap=True)\n",
    "\n",
    "pal = ['#af6e69', '#50627c', '#588c4a', '#5c5c5c'] # light palette\n",
    "sns.set_palette(pal)\n",
    "sns.set_context('paper')\n",
    "\n",
    "bright_pal = [pal[0]]+['#3b5f91']+pal[2:]"
   ]
  },
  {
   "cell_type": "markdown",
   "metadata": {},
   "source": [
    "# Load Data"
   ]
  },
  {
   "cell_type": "code",
   "execution_count": 34,
   "metadata": {},
   "outputs": [],
   "source": [
    "def load_herpesvirusPRMreport(\n",
    "    file, \n",
    "    virus, \n",
    "    n_points = 8, \n",
    "    ignore_peptide_note = ['Do not quant', 'do not quant'], \n",
    "    replicate_fmt = 'treatment_timepoint_replicate', \n",
    "    index_cols = ['Protein Gene', 'Protein Accession', 'temporality', 'Peptide Modified Sequence', 'treatment', 'timepoint', 'replicate', 'File Name'],\n",
    "    data_cols = ['Total Area Fragment'],\n",
    "):\n",
    "\n",
    "    df = pd.read_csv(file)\n",
    "    \n",
    "    df['Peptide Retention Time'] = df['Peptide Retention Time'].where(df['Peptide Retention Time'].notnull(), df['Predicted Result Retention Time'])\n",
    "    df['Total Area Fragment'] = df['Total Area Fragment'].where(df['Points Across Peak']>=n_points, np.nan)    \n",
    "    df['Total Area Fragment'] = df['Total Area Fragment'].where(~df['Peptide Note'].isin(ignore_peptide_note), np.nan)\n",
    "    df['Protein Gene'] = df['Protein Gene'].fillna(df['Protein Name'])\n",
    "\n",
    "    temporality = tableS1.loc[virus].set_index('accession')['temporal class']\n",
    "    df['temporality'] = temporality.reindex(df['Protein Accession']).values\n",
    "    df['temporality'] = df['temporality'].fillna('unknown')\n",
    "    \n",
    "    temp = df['Replicate'].str.split('_', expand = True)\n",
    "    temp.columns = replicate_fmt.split('_')\n",
    "    \n",
    "    df = pd.concat([df, temp], axis=1)\n",
    "    \n",
    "    try:\n",
    "        df['timepoint'] = df['timepoint'].str.replace('hpi', '', case=False).str.replace('mock', '0', case=False).fillna('1000000').astype(int)\n",
    "    except:\n",
    "        pass\n",
    "    \n",
    "    df = df[~df.duplicated()]\n",
    "    df = df.set_index(index_cols)[data_cols]\n",
    "    df = df[~df.isnull().all(axis=1)]\n",
    "    \n",
    "    if df.index.duplicated().any():\n",
    "        print('Duplicate entries detected, dropping duplicates')\n",
    "        return df.reset_index().drop_duplicates().set_index(df.index.names).squeeze()\n",
    "    else:\n",
    "        return df\n",
    "    \n",
    "def mean_normalize(df):\n",
    "    return df.apply(lambda x: x/df.mean(axis=1))\n",
    "\n",
    "def compute_CV(df):\n",
    "    return df.std(axis=1)/df.mean(axis=1)\n",
    "\n",
    "def TTEST(data):\n",
    "    x1 = data.columns[0]\n",
    "    x2s = data.columns[1:]\n",
    "    \n",
    "    res = pd.Series({x2: stats.ttest_ind(data[x1], data[x2], nan_policy='omit')[1] for x2 in x2s})\n",
    "    res.name = 'p-value'\n",
    "    res.index.name = 'HPI'\n",
    "    \n",
    "    return res\n",
    "\n",
    "def add_stars(x):\n",
    "    y = x.copy()\n",
    "    y = x.where(x<0.05, '').where(x>0.05, '*').where(x>0.01, '**').where(x>0.001, '***').where(x>0.0001, '****')\n",
    "    \n",
    "    return y"
   ]
  },
  {
   "cell_type": "code",
   "execution_count": 8,
   "metadata": {},
   "outputs": [],
   "source": [
    "tableS1 = pd.concat({v:pd.read_csv(r'..\\tables\\TableS1{}.csv'.format(l)) for l, v in zip(['A', 'B', 'C'], ['HSV-1','HCMV','KSHV'])}, names = ['virus'])\n",
    "\n",
    "components = tableS1.reset_index()[['accession', 'virion classification*']].set_index('accession').squeeze()\n",
    "temporality = tableS1.reset_index()[['accession', 'temporal class']].set_index('accession').squeeze()\n",
    "components = components[~components.index.duplicated()]\n",
    "temporality = temporality[~temporality.index.duplicated()]\n",
    "temporality.name = 'temporality'"
   ]
  },
  {
   "cell_type": "code",
   "execution_count": 10,
   "metadata": {},
   "outputs": [],
   "source": [
    "ignore_host = ['MYH9','TUBA1A', 'MYO5A', 'CALU', 'IFI16', 'PML', 'SP100', 'ZC3HAV1', 'C1QBP', 'WDFY1']\n",
    "\n",
    "info = pd.concat([pd.read_csv(r'..\\data\\assay info_{}.csv'.format(v)) for v in ['HSV-1', 'HCMV', 'KSHV']], keys = ['HSV-1', 'HCMV', 'KSHV'], names = ['virus']).reset_index()\n",
    "info['Protein Gene'] = info['Protein Gene'].fillna(info['Protein Name']).str.split('|').apply(lambda x: x[-1]).str.replace('_HCMVA', '')\n",
    "info = info.set_index(['virus', 'Protein Accession', 'Protein Gene'])['Peptide Modified Sequence']\n",
    "info = info[~info.index.get_level_values('Protein Gene').isin(ignore_host)]\n",
    "info = info.str.replace('[+57]', '', regex=False)\n",
    "\n",
    "info = pd.concat([info, temporality.reindex(info.index, level='Protein Accession')], axis=1).reset_index().set_index(info.index.names+['temporality']).squeeze()\n",
    "info_r = info.reset_index().set_index('Peptide Modified Sequence')"
   ]
  },
  {
   "cell_type": "code",
   "execution_count": 23,
   "metadata": {
    "scrolled": false
   },
   "outputs": [],
   "source": [
    "# strain conservation analysis results\n",
    "final_df = pd.read_csv(r'..\\data\\strain_conservation_analysis_results.csv', header=[0, 1, 2, 3, 4], index_col=[0, 1, 2])\n",
    "temp = final_df.T.reset_index()\n",
    "temp['temporality'] = info_r.reindex(temp['Peptide Modified Sequence'])['temporality'].values\n",
    "final_df = temp.set_index(final_df.T.index.names).T\n",
    "\n",
    "sel_strains = {'HSV-1': ['17', \n",
    "                         'KOS', \n",
    "                         'Sc16',\n",
    "                         'F',\n",
    "                         'H129',\n",
    "                         'McKrae',\n",
    "                         'MacIntyre'\n",
    "                        ],\n",
    "               \n",
    "               'HSV-2': ['HG52'],\n",
    "               \n",
    "               'HCMV': ['AD169', \n",
    "                        'Towne', \n",
    "                        'Merlin', \n",
    "                        'Toledo', # low passage\n",
    "                        'TB40_E', # low passage\n",
    "                        'TR', # low passage\n",
    "                       ], \n",
    "               \n",
    "               'KSHV': ['BAC16',\n",
    "                        'BrK',\n",
    "                        'GK18', \n",
    "                        'DG1'\n",
    "                       ]\n",
    "              }\n",
    "\n",
    "to_plot = final_df[[i in j for i, j in zip(final_df.index.get_level_values('strain'), final_df.index.get_level_values('virus').map(sel_strains))]].reset_index('# genomes', drop=True)\n",
    "to_plot.to_csv(r'..\\tables\\TableS4.csv') # export supplemental table\n",
    "\n",
    "temp = to_plot.reset_index()\n",
    "temp['strain'] = temp['strain'].where(lambda x: x!='Sc16', 'SC16').where(lambda x: x!='HG52', 'HSV-2\\n(HG52)').where(lambda x: x!='TB40_E', 'TB40/E').where(lambda x: x!='BrK', 'BrK.219')\n",
    "to_plot = temp.set_index(to_plot.index.names)\n",
    "\n",
    "fprot = to_plot.T.groupby(['virus', 'temporality', 'Protein Gene',]).apply(lambda x: x.sum()/x.shape[0]).sort_index().T\n",
    "nprot = to_plot.T.groupby(['virus', 'temporality', 'Protein Gene',]).apply(lambda x: x.sum()).sort_index().T"
   ]
  },
  {
   "cell_type": "code",
   "execution_count": 37,
   "metadata": {},
   "outputs": [
    {
     "name": "stdout",
     "output_type": "stream",
     "text": [
      "Duplicate entries detected, dropping duplicates\n"
     ]
    }
   ],
   "source": [
    "# TB40 PRM data\n",
    "folder = r'..\\Skyline_reports'\n",
    "TB40 = load_herpesvirusPRMreport(os.path.join(folder, 'HCMV_TB40.csv'), 'HCMV', n_points=1)\n",
    "TB40 = TB40.groupby(TB40.index.names[:-1]).mean().unstack(['treatment', 'timepoint', 'replicate']).mean(axis=1)\n",
    "temp = TB40.reset_index()\n",
    "temp['Protein Gene'] = temp['Protein Gene'].fillna(temp['Protein Gene']).str.split('|').apply(lambda x: x[-1]).str.replace('_HCMVA', '')\n",
    "temp['Peptide Modified Sequence'] = temp['Peptide Modified Sequence'].str.replace('[+57]', '', regex=False)\n",
    "TB40 = temp.set_index(TB40.index.names)\n",
    "TB40 = TB40.reset_index().set_index(to_plot['HCMV'].columns.names).squeeze().reindex(to_plot['HCMV'].columns)\n",
    "TB40_bool = TB40.fillna(False).where(lambda x: x == False, True)\n",
    "\n",
    "comb=pd.concat([to_plot.loc[('HCMV', 'TB40/E'), 'HCMV'], TB40_bool], axis=1, keys = ['pred', 'exp'])"
   ]
  },
  {
   "cell_type": "markdown",
   "metadata": {},
   "source": [
    "# Make Figures"
   ]
  },
  {
   "cell_type": "markdown",
   "metadata": {},
   "source": [
    "### Fig. 6A"
   ]
  },
  {
   "cell_type": "code",
   "execution_count": 29,
   "metadata": {},
   "outputs": [
    {
     "data": {
      "image/png": "[encoded data removed]",
      "text/plain": [
       "<Figure size 273.6x129.6 with 4 Axes>"
      ]
     },
     "metadata": {
      "needs_background": "light"
     },
     "output_type": "display_data"
    }
   ],
   "source": [
    "temp = to_plot.T.groupby(['virus', 'temporality', 'Protein Gene', 'Peptide Modified Sequence']).any()\n",
    "temp = temp.groupby('virus', axis=0).sum().apply(lambda x: x/temp.groupby('virus', axis=0).size())*100\n",
    "\n",
    "\n",
    "n = len([j for i in list(sel_strains.values()) for j in i])\n",
    "fig, axs = plt.subplots(ncols=4, figsize = (3.8, 1.8), squeeze=True, \n",
    "                        gridspec_kw={'width_ratios': [len(sel_strains['HSV-1'])/n,\n",
    "                                                      len(sel_strains['HSV-2'])/n,\n",
    "                                                      len(sel_strains['HCMV'])/n, \n",
    "                                                      len(sel_strains['KSHV'])/n]}, \n",
    "                        sharey=True)\n",
    "    \n",
    "for ticks, ax, v, p in zip([60, 60, 100, 70], axs, ['HSV-1', 'HSV-2', 'HCMV', 'KSHV'], [pal[0], pal[-1]]+pal[1:3]):\n",
    "    if not v == 'HSV-2':\n",
    "        data=temp.loc[v, v].T\n",
    "    else:\n",
    "        data=temp.loc['HSV-1', v].T\n",
    "\n",
    "    data.index.names = ['strain']\n",
    "    \n",
    "    \n",
    "    \n",
    "    o = data.sort_values(ascending=False).index.values\n",
    "    data = data.reset_index()\n",
    "    data.columns = ['strain', '% peptides']\n",
    "\n",
    "    sns.barplot(data=data, x='strain', y='% peptides',\n",
    "                order = np.sort(o),\n",
    "                color=p,\n",
    "                ax=ax)\n",
    "    \n",
    "    ax.spines['top'].set_visible(False)\n",
    "    ax.spines['right'].set_visible(False)  \n",
    "    ax.set_ylim(0, 100)\n",
    "    ax.set_yticks(np.linspace(0, 100, 5))\n",
    "    \n",
    "    ax.set_xlabel('')\n",
    "    ax.set_ylabel('')\n",
    "    \n",
    "    ax.set_yticklabels([int(i) for i in np.linspace(0, 100, 5)])\n",
    "    ax.set_xticklabels(ax.get_xticklabels(), rotation=90)\n",
    "\n",
    "axs[0].set_ylabel('% peptides\\nconserved')\n",
    "\n",
    "fig.tight_layout()  \n",
    "plt.subplots_adjust(wspace=0.3)\n",
    "\n",
    "fig.savefig(r'..\\figures\\Fig6A.png', dpi=1000, bbox_inches='tight')\n",
    "plt.show()"
   ]
  },
  {
   "cell_type": "markdown",
   "metadata": {},
   "source": [
    "### Fig. 6B"
   ]
  },
  {
   "cell_type": "code",
   "execution_count": 30,
   "metadata": {},
   "outputs": [
    {
     "data": {
      "image/png": "[encoded data removed]",
      "text/plain": [
       "<Figure size 345.6x115.2 with 4 Axes>"
      ]
     },
     "metadata": {
      "needs_background": "light"
     },
     "output_type": "display_data"
    }
   ],
   "source": [
    "n = len([j for i in list(sel_strains.values()) for j in i])\n",
    "fig, axs = plt.subplots(ncols=4, figsize = (4.8, 1.6), squeeze=True, \n",
    "                        gridspec_kw={'width_ratios': [len(sel_strains['HSV-1'])/n,\n",
    "                                                      len(sel_strains['HSV-2'])/n,\n",
    "                                                      len(sel_strains['HCMV'])/n, \n",
    "                                                      len(sel_strains['KSHV'])/n]})\n",
    "    \n",
    "for ticks, ax, v, p, ts in zip([60, 60, 100, 70], axs, ['HSV-1', 'HSV-2', 'HCMV', 'KSHV'], [pal[0], pal[-1]]+pal[1:3], [['IE', 'E', 'L'], ['IE', 'E', 'L'], ['IE', 'DE', 'LL', 'L'], ['IE', 'DE', 'L']]):\n",
    "    if not v == 'HSV-2':\n",
    "        data=to_plot.T.groupby(['virus', 'temporality', 'Protein Gene',]).any().groupby(['virus', 'temporality']).sum().loc[v, v].T\n",
    "    else:\n",
    "        data=to_plot.T.groupby(['virus', 'temporality', 'Protein Gene',]).any().groupby(['virus', 'temporality']).sum().loc['HSV-1', v].T\n",
    "\n",
    "    data.index.names = ['strain']\n",
    "    \n",
    "    for i, c in enumerate(data[ts]):\n",
    "        if not c==ts[0]:\n",
    "            data[c] = data[c]+data[ts[i-1]]\n",
    "    \n",
    "    o = data.sum(axis=1).sort_values(ascending=False).index.values[data.sum(axis=1).sort_values(ascending=False)!=0]\n",
    "    data = data.stack()[data.stack()!=0].reset_index()\n",
    "\n",
    "    sns.barplot(data=data, x='strain', y=0, hue='temporality',\n",
    "                order = np.sort(o),\n",
    "                palette = sns.light_palette(p, n_colors=data['temporality'].unique().shape[0], reverse=True), \n",
    "                hue_order = ts[::-1], \n",
    "                dodge=False, \n",
    "                ax=ax)\n",
    "    \n",
    "    ax.get_legend().remove()\n",
    "    ax.spines['top'].set_visible(False)\n",
    "    ax.spines['right'].set_visible(False)\n",
    "\n",
    "    ax.set_xticklabels(ax.get_xticklabels(), rotation = 90)\n",
    "    ax.set_yticks(np.linspace(0, ticks, 3))\n",
    "    \n",
    "    ax.set_ylabel('')\n",
    "    ax.set_xlabel('')\n",
    "    \n",
    "    for patch in ax.patches:\n",
    "        patch.set_edgecolor(p)\n",
    "\n",
    "axs[0].set_ylabel('# of proteins')\n",
    "fig.tight_layout()  \n",
    "# plt.subplots_adjust(wspace=0.8)\n",
    "fig.savefig(r'..\\figures\\Fig6B.png', dpi=1000, bbox_inches='tight')\n",
    "plt.show()"
   ]
  },
  {
   "cell_type": "markdown",
   "metadata": {},
   "source": [
    "### Fig. 6C-E"
   ]
  },
  {
   "cell_type": "code",
   "execution_count": 32,
   "metadata": {},
   "outputs": [
    {
     "data": {
      "image/png": "[encoded data removed]",
      "text/plain": [
       "<Figure size 590.4x590.4 with 1 Axes>"
      ]
     },
     "metadata": {
      "needs_background": "light"
     },
     "output_type": "display_data"
    },
    {
     "data": {
      "image/png": "[encoded data removed]",
      "text/plain": [
       "<Figure size 590.4x590.4 with 1 Axes>"
      ]
     },
     "metadata": {
      "needs_background": "light"
     },
     "output_type": "display_data"
    },
    {
     "data": {
      "image/png": "[encoded data removed]",
      "text/plain": [
       "<Figure size 537.6x537.6 with 1 Axes>"
      ]
     },
     "metadata": {
      "needs_background": "light"
     },
     "output_type": "display_data"
    },
    {
     "data": {
      "image/png": "[encoded data removed]",
      "text/plain": [
       "<Figure size 470.4x470.4 with 1 Axes>"
      ]
     },
     "metadata": {
      "needs_background": "light"
     },
     "output_type": "display_data"
    },
    {
     "data": {
      "image/png": "[encoded data removed]",
      "text/plain": [
       "<Figure size 590.4x590.4 with 1 Axes>"
      ]
     },
     "metadata": {
      "needs_background": "light"
     },
     "output_type": "display_data"
    }
   ],
   "source": [
    "hms = {}\n",
    "annots = {}\n",
    "\n",
    "for v1, v2, palette, fs, ts in zip(['HSV-1', 'HSV-2', 'HCMV', 'KSHV'], ['HSV-1', 'HSV-1', 'HCMV', 'KSHV'], [pal[0], pal[-1]]+pal[1:3], [(1.3, 8), (1.3, 8), (2, 11), (1.3, 8)], [['IE', 'E', 'L'], ['IE', 'E', 'L'], ['IE', 'DE', 'LL', 'L'], ['IE', 'DE', 'L']]):\n",
    "    if v1!='HCMV':\n",
    "        pass\n",
    "        w=8.2\n",
    "        \n",
    "        data = fprot.loc[v1, v2]\n",
    "        data = data.loc[data.sum(axis=1).sort_values(ascending=False)[data.sum(axis=1).sort_values(ascending=False)!=0].index, :]\n",
    "        data = pd.concat([data[[t]] for t in ts], axis=1, sort=False)\n",
    "        data = data.sort_index()\n",
    "\n",
    "        hms[v] = data\n",
    "        annots[v] = nprot.loc[v1, v2].loc[data.index, data.columns]\n",
    "\n",
    "        fs = max(data.shape)*0.2\n",
    "\n",
    "        fig, ax = plt.subplots(figsize = (w, w))\n",
    "        sns.heatmap(data, \n",
    "                    cmap=sns.blend_palette(['white', palette],  as_cmap=True), \n",
    "                    square=True, \n",
    "                    ax=ax, \n",
    "                    cbar=False, \n",
    "                    linewidths=0.75, \n",
    "                    annot=nprot.loc[v1, v2].loc[data.index, data.columns].values, \n",
    "                    annot_kws = {'fontsize':6, 'ha':'center', 'va':'center', 'weight': 'bold'},\n",
    "                    xticklabels = data.columns.get_level_values('Protein Gene'),\n",
    "                    yticklabels = data.index.get_level_values('strain').values, \n",
    "                    vmin=0, vmax=1,\n",
    "                   )\n",
    "\n",
    "        ax.xaxis.tick_top()\n",
    "        ax.set_xticklabels(ax.get_xticklabels(), rotation=90)\n",
    "\n",
    "        ax.set_yticks([])\n",
    "        ax.set_xlabel('')\n",
    "        ax.set_ylabel('')\n",
    "\n",
    "        plt.tick_params(size=0)\n",
    "        show_annot_array = (nprot.loc[v1, v2].loc[data.index, data.columns].values > 0)\n",
    "\n",
    "        for text, show_annot in zip(ax.texts, (element for row in show_annot_array for element in row)):\n",
    "            text.set_visible(show_annot)\n",
    "\n",
    "        fig.tight_layout()\n",
    "        \n",
    "        if v1 == 'HSV-1':\n",
    "            fig.savefig(r'..\\figures\\Fig6C.svg'.format(v1), dpi=1000, bbox_inches='tight')\n",
    "        elif v1 == 'KSHV':\n",
    "            fig.savefig(r'..\\figures\\Fig6E.svg'.format(v1), dpi=1000, bbox_inches='tight')\n",
    "\n",
    "        plt.show()\n",
    "        plt.close()\n",
    "    \n",
    "    else:\n",
    "        \n",
    "        w = 7\n",
    "        \n",
    "        data = fprot.loc[v1, v2]\n",
    "        data = data.loc[data.sum(axis=1).sort_values(ascending=False)[data.sum(axis=1).sort_values(ascending=False)!=0].index, :]\n",
    "        data = pd.concat([data[[t]] for t in ts], axis=1, sort=False)\n",
    "        data = data.sort_index()[['IE', 'DE']]\n",
    "\n",
    "        hms[v] = data\n",
    "        annots[v] = nprot.loc[v1, v2].loc[data.index, data.columns]\n",
    "\n",
    "        fs = max(data.shape)*w/45\n",
    "        fig, ax = plt.subplots(figsize = (fs, fs))\n",
    "        \n",
    "        sns.heatmap(data, \n",
    "                    cmap=sns.blend_palette(['white', palette],  as_cmap=True), \n",
    "                    square=True, \n",
    "                    ax=ax, \n",
    "                    cbar=False, \n",
    "                    linewidths=0.75, \n",
    "                    annot=nprot.loc[v1, v2].loc[data.index, data.columns].values, \n",
    "                    annot_kws = {'fontsize':6, 'ha':'center', 'va':'center', 'weight': 'bold'},\n",
    "                    xticklabels = data.columns.get_level_values('Protein Gene'),\n",
    "                    yticklabels = data.index.get_level_values('strain').values, \n",
    "                    vmin=0, vmax=1,\n",
    "                   )\n",
    "\n",
    "        ax.xaxis.tick_top()\n",
    "        ax.set_xticklabels(ax.get_xticklabels(), rotation=90)\n",
    "\n",
    "        ax.set_yticks([])\n",
    "        ax.set_xlabel('')\n",
    "        ax.set_ylabel('')\n",
    "\n",
    "        plt.tick_params(size=0)\n",
    "        show_annot_array = (nprot.loc[v1, v2].loc[data.index, data.columns].values > 0)\n",
    "\n",
    "        for text, show_annot in zip(ax.texts, (element for row in show_annot_array for element in row)):\n",
    "            text.set_visible(show_annot)\n",
    "\n",
    "        fig.tight_layout()\n",
    "        fig.savefig(r'..\\figures\\Fig6D_pt1.svg'.format(v1), dpi=1000, bbox_inches='tight')\n",
    "\n",
    "        plt.show()\n",
    "        plt.close()\n",
    "        \n",
    "        data = fprot.loc[v1, v2]\n",
    "        data = data.loc[data.sum(axis=1).sort_values(ascending=False)[data.sum(axis=1).sort_values(ascending=False)!=0].index, :]\n",
    "        data = pd.concat([data[[t]] for t in ts], axis=1, sort=False)\n",
    "        data = data.sort_index()[['LL', 'L']]\n",
    "\n",
    "        hms[v] = data\n",
    "        annots[v] = nprot.loc[v1, v2].loc[data.index, data.columns]\n",
    "\n",
    "        fs = max(data.shape)*w/45\n",
    "        fig, ax = plt.subplots(figsize = (fs, fs))\n",
    "        \n",
    "        sns.heatmap(data, \n",
    "                    cmap=sns.blend_palette(['white', palette],  as_cmap=True), \n",
    "                    square=True, \n",
    "                    ax=ax, \n",
    "                    cbar=False, \n",
    "                    linewidths=0.75, \n",
    "                    annot=nprot.loc[v1, v2].loc[data.index, data.columns].values, \n",
    "                    annot_kws = {'fontsize':6, 'ha':'center', 'va':'center', 'weight': 'bold'},\n",
    "                    xticklabels = data.columns.get_level_values('Protein Gene'),\n",
    "                    yticklabels = data.index.get_level_values('strain').values, \n",
    "                    vmin=0, vmax=1,\n",
    "                   )\n",
    "\n",
    "        ax.xaxis.tick_top()\n",
    "        ax.set_xticklabels(ax.get_xticklabels(), rotation=90)\n",
    "\n",
    "        ax.set_yticks([])\n",
    "        ax.set_xlabel('')\n",
    "        ax.set_ylabel('')\n",
    "\n",
    "        plt.tick_params(size=0)\n",
    "        show_annot_array = (nprot.loc[v1, v2].loc[data.index, data.columns].values > 0)\n",
    "\n",
    "        for text, show_annot in zip(ax.texts, (element for row in show_annot_array for element in row)):\n",
    "            text.set_visible(show_annot)\n",
    "\n",
    "        fig.tight_layout()\n",
    "        fig.savefig(r'..\\figures\\Fig6D_pt2.svg'.format(v1), dpi=1000, bbox_inches='tight')\n",
    "\n",
    "        plt.show()\n",
    "        plt.close()"
   ]
  },
  {
   "cell_type": "markdown",
   "metadata": {},
   "source": [
    "### Fig. 6F"
   ]
  },
  {
   "cell_type": "code",
   "execution_count": 40,
   "metadata": {},
   "outputs": [
    {
     "data": {
      "image/png": "[encoded data removed]",
      "text/plain": [
       "<Figure size 187.2x129.6 with 1 Axes>"
      ]
     },
     "metadata": {
      "needs_background": "light"
     },
     "output_type": "display_data"
    }
   ],
   "source": [
    "fig, ax = plt.subplots(figsize = (2.6, 1.8))\n",
    "sns.barplot(data=(comb.sum()/comb.shape[0]*100).reset_index(), \n",
    "            y='index', \n",
    "            x=0, \n",
    "            ax = ax, \n",
    "            palette = hcmv_palette([10, 200]),\n",
    "            linewidth=1, edgecolor='k',\n",
    "           )\n",
    "\n",
    "ax.set_xlim(0, 100)\n",
    "ax.set_xticks([0, 25, 50, 75, 100])\n",
    "ax.xaxis.tick_top()\n",
    "ax.spines['bottom'].set_visible(False)\n",
    "ax.spines['right'].set_visible(False)\n",
    "ax.set_yticklabels(['computationally\\npredicted', 'experimentally\\nvalidated'])\n",
    "ax.set_ylabel('')\n",
    "ax.set_xlabel('% peptides detectable')\n",
    "fig.tight_layout()\n",
    "fig.savefig(r'..\\figures\\Fig6F.png', dpi=1000, bbox_inches='tight')\n",
    "plt.show()"
   ]
  },
  {
   "cell_type": "markdown",
   "metadata": {},
   "source": [
    "### Fig. 6G"
   ]
  },
  {
   "cell_type": "code",
   "execution_count": 58,
   "metadata": {},
   "outputs": [
    {
     "name": "stdout",
     "output_type": "stream",
     "text": [
      "There are 189 peptides computationally predicted to be present in HCMV TB40/E\n",
      "There are 34 peptides computationally predicted to be absent in HCMV TB40/E\n",
      "There are 176 peptides computationally predicted and experimentally detected HCMV TB40/E\n",
      "There are 13 peptides computationally predicted but NOT experimentally detected HCMV TB40/E\n",
      "There are 34 peptides computationally predicted to be absent that were NOT experimentally detected HCMV TB40/E\n"
     ]
    }
   ],
   "source": [
    "a = comb['pred']==comb['exp']\n",
    "b = comb['pred'] == True\n",
    "\n",
    "print('There are {} peptides computationally predicted to be present in HCMV TB40/E'.format(b.sum()))\n",
    "print('There are {} peptides computationally predicted to be absent in HCMV TB40/E'.format((~b).sum()))\n",
    "print('There are {} peptides computationally predicted and experimentally detected HCMV TB40/E'.format(comb['exp'][a&b].sum()))\n",
    "print('There are {} peptides computationally predicted but NOT experimentally detected HCMV TB40/E'.format(((~a)&b).sum()))\n",
    "print('There are {} peptides computationally predicted to be absent that were NOT experimentally detected HCMV TB40/E'.format(((a)&(~b)).sum()))\n",
    "\n"
   ]
  },
  {
   "cell_type": "code",
   "execution_count": 60,
   "metadata": {},
   "outputs": [
    {
     "data": {
      "image/png": "[encoded data removed]",
      "text/plain": [
       "<Figure size 432x72 with 1 Axes>"
      ]
     },
     "metadata": {
      "needs_background": "light"
     },
     "output_type": "display_data"
    }
   ],
   "source": [
    "a = 5\n",
    "b = 2\n",
    "\n",
    "agree = comb['pred']==comb['exp']\n",
    "y = comb['pred']==True\n",
    "n = comb['pred']==False\n",
    "\n",
    "a = np.where(agree&y, 'agree--yes', np.nan)\n",
    "b = np.where(agree&n, 'agree--no', np.nan)\n",
    "c = np.where(~agree&y, 'disagree--yes', np.nan)\n",
    "\n",
    "temp = comb.copy()\n",
    "temp['label'] = pd.DataFrame(np.vstack([a, b, c]).T, index = comb.index).stack().where(lambda x: x!='nan', np.nan).dropna().reset_index(level=-1, drop=True)\n",
    "temp = temp.reset_index().set_index(['label']+temp.index.names).sort_index().astype(int)\n",
    "temp.loc['disagree--yes', 'exp'] = np.nan\n",
    "comb_temp = temp.loc[['agree--yes', 'disagree--yes', 'agree--no'], :]\n",
    "\n",
    "fig, ax = plt.subplots(figsize=(6, 1))\n",
    "sns.heatmap(comb_temp.T, \n",
    "            cmap = sns.blend_palette([hcmv_palette(200), pal[1]], as_cmap=True), \n",
    "            yticklabels = ['computationally\\npredicted', 'TB40/E\\n(96 HPI)'], \n",
    "            xticklabels = [],\n",
    "            linewidths=0,\n",
    "            cbar=False,\n",
    "            ax=ax)\n",
    "ax.set_xlabel('')\n",
    "ax.set_yticklabels(ax.get_yticklabels(), rotation=0)\n",
    "plt.tick_params(size=0)\n",
    "fig.tight_layout()\n",
    "fig.savefig(r'..\\figures\\Fig6G.png', dpi=1000, bbox_inches='tight')\n",
    "plt.show()\n"
   ]
  }
 ],
 "metadata": {
  "kernelspec": {
   "display_name": "Python 3",
   "language": "python",
   "name": "python3"
  },
  "language_info": {
   "codemirror_mode": {
    "name": "ipython",
    "version": 3
   },
   "file_extension": ".py",
   "mimetype": "text/x-python",
   "name": "python",
   "nbconvert_exporter": "python",
   "pygments_lexer": "ipython3",
   "version": "3.8.8"
  }
 },
 "nbformat": 4,
 "nbformat_minor": 2
}
