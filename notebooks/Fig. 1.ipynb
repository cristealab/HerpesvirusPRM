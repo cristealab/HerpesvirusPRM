{
 "cells": [
  {
   "cell_type": "code",
   "execution_count": 1,
   "metadata": {},
   "outputs": [],
   "source": [
    "import pandas as pd\n",
    "import numpy as np\n",
    "import seaborn as sns\n",
    "import matplotlib.pyplot as plt\n",
    "import os\n",
    "\n",
    "# define cmaps for viruses\n",
    "hsv1_palette_r = sns.light_palette((168/256, 97/256, 92/256), reverse=False, as_cmap=True)\n",
    "hcmv_palette_r = sns.light_palette((71/256, 103/256, 133/256), reverse=False, as_cmap=True)\n",
    "kshv_palette_r = sns.light_palette((113/256, 175/256, 71/256), reverse=False, as_cmap=True)\n",
    "\n",
    "pal = ['#af6e69', '#50627c', '#588c4a', '#5c5c5c'] # light palette\n",
    "sns.set_palette(pal)\n",
    "sns.set_context('paper')\n",
    "\n",
    "bright_pal = [pal[0]]+['#3b5f91']+pal[2:]"
   ]
  },
  {
   "cell_type": "markdown",
   "metadata": {},
   "source": [
    "# Load data"
   ]
  },
  {
   "cell_type": "code",
   "execution_count": 9,
   "metadata": {},
   "outputs": [],
   "source": [
    "def load_herpesvirusPRMreport(\n",
    "    file, \n",
    "    virus, \n",
    "    n_points = 8, \n",
    "    ignore_peptide_note = ['Do not quant', 'do not quant'], \n",
    "    replicate_fmt = 'treatment_timepoint_replicate', \n",
    "    index_cols = ['Protein Gene', 'Protein Accession', 'temporality', 'Peptide Modified Sequence', 'treatment', 'timepoint', 'replicate', 'File Name'],\n",
    "    data_cols = ['Total Area Fragment'],\n",
    "):\n",
    "\n",
    "    df = pd.read_csv(file)\n",
    "    \n",
    "    df['Peptide Retention Time'] = df['Peptide Retention Time'].where(df['Peptide Retention Time'].notnull(), df['Predicted Result Retention Time'])\n",
    "    df['Total Area Fragment'] = df['Total Area Fragment'].where(df['Points Across Peak']>=n_points, np.nan)    \n",
    "    df['Total Area Fragment'] = df['Total Area Fragment'].where(~df['Peptide Note'].isin(ignore_peptide_note), np.nan)\n",
    "    df['Protein Gene'] = df['Protein Gene'].fillna(df['Protein Name'])\n",
    "\n",
    "    temporality = tableS1.loc[virus].set_index('accession')['temporal class']\n",
    "    df['temporality'] = temporality.reindex(df['Protein Accession']).values\n",
    "    df['temporality'] = df['temporality'].fillna('unknown')\n",
    "    \n",
    "    temp = df['Replicate'].str.split('_', expand = True)\n",
    "    temp.columns = replicate_fmt.split('_')\n",
    "    \n",
    "    df = pd.concat([df, temp], axis=1)\n",
    "    \n",
    "    try:\n",
    "        df['timepoint'] = df['timepoint'].str.replace('hpi', '', case=False).str.replace('mock', '0', case=False).fillna('1000000').astype(int)\n",
    "    except:\n",
    "        pass\n",
    "    \n",
    "    df = df[~df.duplicated()]\n",
    "    df = df.set_index(index_cols)[data_cols]\n",
    "    df = df[~df.isnull().all(axis=1)]\n",
    "    \n",
    "    if df.index.duplicated().any():\n",
    "        print('Duplicate entries detected, dropping duplicates')\n",
    "        return df.reset_index().drop_duplicates().set_index(df.index.names).squeeze()\n",
    "    else:\n",
    "        return df\n",
    "    \n",
    "def mean_normalize(df):\n",
    "    return df.apply(lambda x: x/df.mean(axis=1))\n",
    "\n",
    "def compute_CV(df):\n",
    "    return df.std(axis=1)/df.mean(axis=1)\n",
    "\n",
    "def TTEST(data):\n",
    "    x1 = data.columns[0]\n",
    "    x2s = data.columns[1:]\n",
    "    \n",
    "    res = pd.Series({x2: stats.ttest_ind(data[x1], data[x2], nan_policy='omit')[1] for x2 in x2s})\n",
    "    res.name = 'p-value'\n",
    "    res.index.name = 'HPI'\n",
    "    \n",
    "    return res\n",
    "\n",
    "def add_stars(x):\n",
    "    y = x.copy()\n",
    "    y = x.where(x<0.05, '').where(x>0.05, '*').where(x>0.01, '**').where(x>0.001, '***').where(x>0.0001, '****')\n",
    "    \n",
    "    return y"
   ]
  },
  {
   "cell_type": "code",
   "execution_count": 3,
   "metadata": {},
   "outputs": [],
   "source": [
    "tableS1 = pd.concat({v:pd.read_csv(r'..\\tables\\TableS1{}.csv'.format(l)) for l, v in zip(['A', 'B', 'C'], ['HSV-1','HCMV','KSHV'])}, names = ['virus'])\n",
    "\n",
    "components = tableS1.reset_index()[['accession', 'virion classification*']].set_index('accession').squeeze()\n",
    "temporality = tableS1.reset_index()[['accession', 'temporal class']].set_index('accession').squeeze()\n",
    "components = components[~components.index.duplicated()]\n",
    "temporality = temporality[~temporality.index.duplicated()]"
   ]
  },
  {
   "cell_type": "code",
   "execution_count": 26,
   "metadata": {},
   "outputs": [
    {
     "name": "stdout",
     "output_type": "stream",
     "text": [
      "Duplicate entries detected, dropping duplicates\n",
      "Duplicate entries detected, dropping duplicates\n",
      "Duplicate entries detected, dropping duplicates\n"
     ]
    }
   ],
   "source": [
    "folder = r'..\\Skyline_reports'\n",
    "replicate_fmt = 'treatment_timepoint_replicate'\n",
    "index_cols = ['Protein Gene', 'Protein Accession', 'temporality', 'Peptide Modified Sequence', 'treatment', 'timepoint', 'replicate', 'File Name']\n",
    "data_cols = ['Total Area Fragment', 'Peptide Retention Time']\n",
    "\n",
    "hsv1_filename = 'HSV-1_baseline.csv'\n",
    "hsv1 = load_herpesvirusPRMreport(os.path.join(folder, hsv1_filename), 'HSV-1', data_cols=data_cols, index_cols=index_cols).where(lambda x: x!=0, np.nan).reset_index()\n",
    "hsv1['virus'] = 'HSV-1'\n",
    "hsv1= hsv1.set_index(['virus']+index_cols).squeeze() \n",
    "\n",
    "hcmv_filename = 'HCMV_baseline.csv'\n",
    "hcmv = load_herpesvirusPRMreport(os.path.join(folder, hcmv_filename), 'HCMV', data_cols=data_cols, index_cols=index_cols).where(lambda x: x!=0, np.nan).reset_index()\n",
    "hcmv['virus'] = 'HCMV'\n",
    "hcmv= hcmv.set_index(['virus']+index_cols).squeeze() \n",
    "\n",
    "kshv_filename = 'KSHV_baseline.csv'\n",
    "kshv = load_herpesvirusPRMreport(os.path.join(folder, kshv_filename), 'KSHV', data_cols=data_cols, index_cols=index_cols).where(lambda x: x!=0, np.nan).reset_index()\n",
    "kshv['virus'] = 'KSHV'\n",
    "kshv = kshv.set_index(['virus']+index_cols).squeeze()\n",
    "\n",
    "baseline = pd.concat([hsv1, hcmv, kshv])\n",
    "baseline = baseline[~baseline.index.duplicated()]\n",
    "filename_mapping = baseline.reset_index()[['virus', 'treatment', 'timepoint', 'replicate', 'File Name']].drop_duplicates().set_index('File Name')\n",
    "\n",
    "hsv1_ext = pd.concat([load_herpesvirusPRMreport(os.path.join(folder, 'HSV-1_DMSO_ACV_3uM.csv'), 'HSV-1', data_cols = data_cols, index_cols = index_cols), hsv1.reset_index('virus', drop=True)], keys = ['HSV-1 DMSO', 'HSV-1 WT'], names = ['virus'])['Total Area Fragment']\n",
    "hsv1_ext = hsv1_ext.unstack('treatment')[['DMSO', 'WT']].stack().reset_index().set_index(hsv1.index.names).squeeze()\n",
    "baseline_ext = pd.concat([hsv1_ext, hcmv, kshv])\n",
    "filename_mapping_ext = baseline_ext.reset_index()[['virus', 'treatment', 'timepoint', 'replicate', 'File Name']].drop_duplicates().set_index('File Name')"
   ]
  },
  {
   "cell_type": "markdown",
   "metadata": {},
   "source": [
    "# Normalize Data"
   ]
  },
  {
   "cell_type": "markdown",
   "metadata": {},
   "source": [
    "### MS1 normalization"
   ]
  },
  {
   "cell_type": "code",
   "execution_count": 33,
   "metadata": {},
   "outputs": [],
   "source": [
    "filename = r'..\\MS1_intensities_RawMeat.csv'\n",
    "\n",
    "MS1 = pd.read_csv(filename, index_col=[0]).squeeze()\n",
    "MS1.index = MS1.index+'.raw'\n",
    "MS1 = pd.concat([MS1[MS1.index.isin(baseline.index.get_level_values('File Name').unique())], filename_mapping], axis=1).reset_index().set_index(['virus', 'treatment', 'timepoint', 'replicate', 'File Name']).squeeze()\n",
    "ratios = MS1.groupby(['virus', 'treatment', 'replicate']).apply(lambda x: x/x.mean())\n",
    "baseline_adj = baseline['Total Area Fragment'].groupby(ratios.index.names).apply(lambda x: x/ratios[x.name]).unstack('File Name').mean(axis=1)\n",
    "\n",
    "MS1_ext = pd.read_csv(filename, index_col=[0]).squeeze()\n",
    "MS1_ext.index = MS1_ext.index+'.raw'\n",
    "MS1_ext = pd.concat([MS1_ext[MS1_ext.index.isin(baseline_ext.index.get_level_values('File Name').unique())], filename_mapping_ext], axis=1).reset_index().set_index(['virus', 'treatment', 'timepoint', 'replicate', 'File Name']).squeeze()\n",
    "ratios_ext = MS1_ext.groupby(['virus', 'treatment', 'replicate']).apply(lambda x: x/x.mean())\n",
    "baseline_adj_ext = baseline_ext.groupby(ratios.index.names).apply(lambda x: x/ratios_ext[x.name]).unstack('File Name').mean(axis=1)\n"
   ]
  },
  {
   "cell_type": "markdown",
   "metadata": {},
   "source": [
    "### Mean Normalization"
   ]
  },
  {
   "cell_type": "code",
   "execution_count": null,
   "metadata": {},
   "outputs": [],
   "source": [
    "cols = ['timepoint']\n",
    "baseline_norm = mean_normalize(baseline_adj.unstack(cols)).stack(cols)\n",
    "baseline_avg = baseline_norm.unstack(['Peptide Modified Sequence']).mean(axis=1)\n",
    "baseline_mean = baseline_avg.unstack(['replicate', 'treatment']).mean(axis=1)\n",
    "\n",
    "baseline_norm_ext = mean_normalize(baseline_adj_ext.unstack(cols)).stack(cols)\n",
    "baseline_avg_ext = baseline_norm_ext.unstack(['Peptide Modified Sequence']).mean(axis=1)\n",
    "baseline_mean_ext = baseline_avg_ext.unstack(['replicate', 'treatment']).mean(axis=1)"
   ]
  },
  {
   "cell_type": "markdown",
   "metadata": {},
   "source": [
    "# Make Figures"
   ]
  },
  {
   "cell_type": "markdown",
   "metadata": {},
   "source": [
    "### Fig. 1C"
   ]
  },
  {
   "cell_type": "code",
   "execution_count": 13,
   "metadata": {},
   "outputs": [
    {
     "name": "stdout",
     "output_type": "stream",
     "text": [
      "virus  temporal class\n",
      "HSV-1  E                 16\n",
      "       IE                 5\n",
      "       L                 38\n",
      "       host               6\n",
      "       normalization      2\n",
      "HCMV   DE                41\n",
      "       IE                 7\n",
      "       L                 27\n",
      "       LL                15\n",
      "       host               1\n",
      "       normalization      2\n",
      "KSHV   DE                27\n",
      "       IE                 6\n",
      "       L                 29\n",
      "       normalization      1\n",
      "dtype: int64\n",
      "========================================\n",
      "virus  virion classification*\n",
      "HSV-1  capsid                     8\n",
      "       envelope                  11\n",
      "       non-structural            17\n",
      "       tegument                  23\n",
      "HCMV   capsid                     7\n",
      "       envelope                  11\n",
      "       non-structural            38\n",
      "       tegument                  34\n",
      "KSHV   capsid                     7\n",
      "       envelope                   8\n",
      "       non-structural            24\n",
      "       tegument                  23\n",
      "dtype: int64\n"
     ]
    }
   ],
   "source": [
    "print(tableS1.groupby(['virus', 'temporal class']).size())\n",
    "print('========================================')\n",
    "print(tableS1.groupby(['virus', 'virion classification*']).size())"
   ]
  },
  {
   "cell_type": "markdown",
   "metadata": {},
   "source": [
    "### Fig. 1D"
   ]
  },
  {
   "cell_type": "code",
   "execution_count": 40,
   "metadata": {},
   "outputs": [
    {
     "name": "stdout",
     "output_type": "stream",
     "text": [
      "10   17   24   31   38   45   52   59   66   73   10   17   24   31   38   45   52   59   66   73   10   17   24   31   38   45   52   59   66   73   10   17   24   31   38   45   52   59   66   73   "
     ]
    }
   ],
   "source": [
    "# compute number of concurrent precursors\n",
    "conc = {}\n",
    "n=100\n",
    "arr = np.linspace(10, 80, n)\n",
    "\n",
    "for w in [3, 6, 10, 15]:\n",
    "    conc[w] = []\n",
    "    for i, x in enumerate(arr):\n",
    "        start = x-w/2\n",
    "        end = x+w/2\n",
    "        conc[w].append(baseline['Peptide Retention Time'].groupby(['virus', 'treatment', 'timepoint', 'replicate']).apply(lambda y: ((y>=start)&(y<=end)).sum()))\n",
    "        \n",
    "        if i%(n/10)==0:\n",
    "            print(int(x), end='   ')\n",
    "    conc[w] = pd.concat(conc[w], keys = arr, names = ['RT'])\n",
    "conc = pd.concat(conc, names =['window'])"
   ]
  },
  {
   "cell_type": "code",
   "execution_count": 42,
   "metadata": {},
   "outputs": [
    {
     "data": {
      "image/png": "[encoded data removed]",
      "text/plain": [
       "<Figure size 362.16x194.4 with 3 Axes>"
      ]
     },
     "metadata": {
      "needs_background": "light"
     },
     "output_type": "display_data"
    }
   ],
   "source": [
    "fig, axs = plt.subplots(nrows=2, ncols=2, figsize = (5.03, 2.7), sharex=True,)\n",
    "axs.flatten()[1].remove()\n",
    "for ax, v in zip([axs.flatten()[0]]+axs.flatten()[2:].tolist(), ['HSV-1', 'HCMV', 'KSHV']):\n",
    "    data = conc.unstack(['virus', 'window', 'RT']).max().sort_index().loc[v]\n",
    "    sns.lineplot(data=data.reset_index(), x='RT', y=0, \n",
    "                 hue = 'window',\n",
    "                 palette = dict(zip(['HSV-1', 'HCMV', 'KSHV'], [hsv1_palette_r(np.linspace(0, 1, 5)[1:]).tolist(), hcmv_palette_r (np.linspace(0, 1, 5)[1:]).tolist(), kshv_palette_r(np.linspace(0, 1, 5)[1:]).tolist()]))[v], \n",
    "                 ax=ax,)\n",
    "    \n",
    "    ax.axhline(30, ls='--', c=pal[-1], zorder=-1)\n",
    "    ax.get_legend().remove()\n",
    "    ax.set_xlabel('')\n",
    "    ax.set_ylabel('')\n",
    "\n",
    "    ax.spines['top'].set_visible(False)\n",
    "    ax.spines['right'].set_visible(False)\n",
    "    \n",
    "    ax.set_yticks(np.linspace(0, int(np.round(ax.get_ylim()[1])/10)*10, 3))\n",
    "    \n",
    "fig.text(0.5, 0, 'retention time (min)', ha='center')\n",
    "fig.text(0, 0.52, 'max. concurrent precursors', va='center', rotation='vertical')\n",
    "\n",
    "\n",
    "fig.tight_layout()\n",
    "fig.savefig(r'..\\figures\\Fig1D.png', dpi=1000, bbox_inches='tight')\n",
    "plt.show()"
   ]
  },
  {
   "cell_type": "markdown",
   "metadata": {},
   "source": [
    "### Fig. 1E"
   ]
  },
  {
   "cell_type": "code",
   "execution_count": 36,
   "metadata": {},
   "outputs": [
    {
     "data": {
      "image/png": "[encoded data removed]",
      "text/plain": [
       "<Figure size 316.8x180 with 3 Axes>"
      ]
     },
     "metadata": {
      "needs_background": "light"
     },
     "output_type": "display_data"
    }
   ],
   "source": [
    "fig, axs = plt.subplots(figsize=(4.4, 2.5), ncols=3, sharey=True, sharex='col')\n",
    "\n",
    "xticks = dict(zip(['HCMV', 'KSHV', 'HSV-1 WT', 'HSV-1 DMSO'], [[24, 48, 72, 96, 120], [24, 48, 72], [2, 6, 12, 18], [2, 6, 12, 18]]))\n",
    "\n",
    "for v, ax, c in zip(['HSV-1', 'HCMV', 'KSHV'], axs, bright_pal):\n",
    "    \n",
    "    data=baseline_norm_ext[(baseline_norm_ext.index.get_level_values('temporality')=='normalization')&(baseline_norm_ext.index.get_level_values('virus').str.contains(v))]\n",
    "    sns.lineplot(data=data.reset_index(), x='timepoint', y=0, \n",
    "                 ax=ax, \n",
    "                 err_style='bars', \n",
    "                 color=c, \n",
    "                 err_kws={'capsize':2}, \n",
    "                 style='Protein Gene',\n",
    "                 style_order = ['TUBA1A', 'MYH9', 'MYO5A']\n",
    "                )\n",
    "\n",
    "    ax.set_xticks(xticks[data.reset_index()['virus'].unique()[0]])\n",
    "    \n",
    "    ax.spines['top'].set_visible(False)\n",
    "    ax.spines['right'].set_visible(False)\n",
    "    ax.set_ylim(0, 2.5)\n",
    "    ax.set_xlabel('HPI')\n",
    "   \n",
    "    \n",
    "    ax.get_legend().remove()\n",
    "\n",
    "axs[0].set_ylabel('normalized abundance')\n",
    "fig.tight_layout()\n",
    "fig.savefig(r'..\\figures\\Fig1E.png', dpi=1000, bbox_inches='tight')\n",
    "plt.show()"
   ]
  },
  {
   "cell_type": "markdown",
   "metadata": {},
   "source": [
    "### Fig. 1F"
   ]
  },
  {
   "cell_type": "code",
   "execution_count": 38,
   "metadata": {},
   "outputs": [
    {
     "data": {
      "image/png": "[encoded data removed]",
      "text/plain": [
       "<Figure size 306x180 with 3 Axes>"
      ]
     },
     "metadata": {
      "needs_background": "light"
     },
     "output_type": "display_data"
    }
   ],
   "source": [
    "l = [['Peptide Modified Sequence'], \n",
    "     ['replicate'],\n",
    "     ['replicate', 'Peptide Modified Sequence']\n",
    "    ]\n",
    "\n",
    "fig, axs = plt.subplots(ncols = len(l), figsize = (4.25, 2.5), sharey=True)\n",
    "\n",
    "for ax, i in zip(axs, l):\n",
    "    \n",
    "    data = baseline_norm.unstack(i).groupby('virus', group_keys=False).apply(compute_CV)\n",
    "    sns.barplot(data=data.reset_index(), x='virus', y=0, \n",
    "                hue='virus', ax=ax, dodge=False, \n",
    "                hue_order = ['HSV-1', 'HCMV', 'KSHV'], \n",
    "                order = ['HSV-1', 'HCMV', 'KSHV'], \n",
    "                capsize=0.2, \n",
    "                errwidth=1.1, \n",
    "                saturation=0.75,\n",
    "               )\n",
    "    ax.set_ylabel('')\n",
    "    ax.set_xlabel('')\n",
    "    ax.set_title('')\n",
    "    ax.get_legend().remove()\n",
    "    \n",
    "    ax.set_xticklabels(ax.get_xticklabels(), rotation=45, ha='right')\n",
    "    \n",
    "    ax.spines['top'].set_visible(False)\n",
    "    ax.spines['right'].set_visible(False)\n",
    "    ax.set_ylim(0, 0.25)\n",
    "    \n",
    "    for p in ax.patches:\n",
    "        r, g, b, a = p.get_facecolor()\n",
    "        p.set_facecolor((r, g, b, 0.75))\n",
    "        p.set_edgecolor('k')\n",
    "        p.set_linewidth(1)\n",
    "    \n",
    "    \n",
    "axs[0].set_ylabel('coefficient of variation (CV)')\n",
    "fig.tight_layout()\n",
    "fig.savefig(r'..\\figures\\Fig1F.png', dpi=1000, bbox_inches='tight')\n",
    "plt.show()"
   ]
  }
 ],
 "metadata": {
  "kernelspec": {
   "display_name": "Python 3",
   "language": "python",
   "name": "python3"
  },
  "language_info": {
   "codemirror_mode": {
    "name": "ipython",
    "version": 3
   },
   "file_extension": ".py",
   "mimetype": "text/x-python",
   "name": "python",
   "nbconvert_exporter": "python",
   "pygments_lexer": "ipython3",
   "version": "3.8.8"
  }
 },
 "nbformat": 4,
 "nbformat_minor": 4
}
