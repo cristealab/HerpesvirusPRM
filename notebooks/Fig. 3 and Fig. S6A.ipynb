{
 "cells": [
  {
   "cell_type": "code",
   "execution_count": 1,
   "metadata": {},
   "outputs": [],
   "source": [
    "import pandas as pd\n",
    "import numpy as np\n",
    "import seaborn as sns\n",
    "import matplotlib.pyplot as plt\n",
    "import os\n",
    "import scipy.stats as stats\n",
    "\n",
    "# define cmaps for viruses\n",
    "hsv1_palette = sns.light_palette((168/256, 97/256, 92/256), reverse=True, as_cmap=True)\n",
    "hcmv_palette = sns.light_palette((71/256, 103/256, 133/256), reverse=True, as_cmap=True)\n",
    "kshv_palette = sns.light_palette((113/256, 175/256, 71/256), reverse=True, as_cmap=True)\n",
    "\n",
    "div_cmap = sns.blend_palette([hcmv_palette(0), '#FFFFFF', hsv1_palette(0)], as_cmap=True)\n",
    "\n",
    "pal = ['#894e49', '#44546a', '#4a763e', '#696969'] # dark palette\n",
    "pal = ['#af6e69', '#50627c', '#588c4a', '#5c5c5c'] # light palette\n",
    "sns.set_palette(pal)\n",
    "sns.set_context('paper')\n",
    "\n",
    "bright_pal = [pal[0]]+['#3b5f91']+pal[2:]"
   ]
  },
  {
   "cell_type": "markdown",
   "metadata": {},
   "source": [
    "# Load Data"
   ]
  },
  {
   "cell_type": "code",
   "execution_count": 2,
   "metadata": {},
   "outputs": [],
   "source": [
    "def load_herpesvirusPRMreport(\n",
    "    file, \n",
    "    virus, \n",
    "    n_points = 8, \n",
    "    ignore_peptide_note = ['Do not quant', 'do not quant'], \n",
    "    replicate_fmt = 'treatment_timepoint_replicate', \n",
    "    index_cols = ['Protein Gene', 'Protein Accession', 'temporality', 'Peptide Modified Sequence', 'treatment', 'timepoint', 'replicate', 'File Name'],\n",
    "    data_cols = ['Total Area Fragment'],\n",
    "):\n",
    "\n",
    "    df = pd.read_csv(file)\n",
    "    \n",
    "    df['Peptide Retention Time'] = df['Peptide Retention Time'].where(df['Peptide Retention Time'].notnull(), df['Predicted Result Retention Time'])\n",
    "    df['Total Area Fragment'] = df['Total Area Fragment'].where(df['Points Across Peak']>=n_points, np.nan)    \n",
    "    df['Total Area Fragment'] = df['Total Area Fragment'].where(~df['Peptide Note'].isin(ignore_peptide_note), np.nan)\n",
    "    df['Protein Gene'] = df['Protein Gene'].fillna(df['Protein Name'])\n",
    "\n",
    "    temporality = tableS1.loc[virus].set_index('accession')['temporal class']\n",
    "    df['temporality'] = temporality.reindex(df['Protein Accession']).values\n",
    "    df['temporality'] = df['temporality'].fillna('unknown')\n",
    "    \n",
    "    temp = df['Replicate'].str.split('_', expand = True)\n",
    "    temp.columns = replicate_fmt.split('_')\n",
    "    \n",
    "    df = pd.concat([df, temp], axis=1)\n",
    "    \n",
    "    try:\n",
    "        df['timepoint'] = df['timepoint'].str.replace('hpi', '', case=False).str.replace('mock', '0', case=False).fillna('1000000').astype(int)\n",
    "    except:\n",
    "        pass\n",
    "    \n",
    "    df = df[~df.duplicated()]\n",
    "    df = df.set_index(index_cols)[data_cols]\n",
    "    df = df[~df.isnull().all(axis=1)]\n",
    "    \n",
    "    if df.index.duplicated().any():\n",
    "        print('Duplicate entries detected, dropping duplicates')\n",
    "        return df.reset_index().drop_duplicates().set_index(df.index.names).squeeze()\n",
    "    else:\n",
    "        return df\n",
    "    \n",
    "def mean_normalize(df):\n",
    "    return df.apply(lambda x: x/df.mean(axis=1))\n",
    "\n",
    "def compute_CV(df):\n",
    "    return df.std(axis=1)/df.mean(axis=1)\n",
    "\n",
    "def TTEST(data):\n",
    "    x1 = data.columns[0]\n",
    "    x2s = data.columns[1:]\n",
    "    \n",
    "    res = pd.Series({x2: stats.ttest_ind(data[x1], data[x2], nan_policy='omit')[1] for x2 in x2s})\n",
    "    res.name = 'p-value'\n",
    "    res.index.name = 'HPI'\n",
    "    \n",
    "    return res\n",
    "\n",
    "def add_stars(x):\n",
    "    y = x.copy()\n",
    "    y = x.where(x<0.05, '').where(x>0.05, '*').where(x>0.01, '**').where(x>0.001, '***').where(x>0.0001, '****')\n",
    "    \n",
    "    return y\n",
    "\n",
    "def poisson(MOI):\n",
    "    uninf = np.exp(-MOI)\n",
    "    single = np.exp(-MOI)*MOI\n",
    "    multiple = 1-np.exp(-MOI)*(MOI+1)\n",
    "    \n",
    "    return single+multiple"
   ]
  },
  {
   "cell_type": "code",
   "execution_count": 3,
   "metadata": {},
   "outputs": [],
   "source": [
    "tableS1 = pd.concat({v:pd.read_csv(r'..\\tables\\TableS1{}.csv'.format(l)) for l, v in zip(['A', 'B', 'C'], ['HSV-1','HCMV','KSHV'])}, names = ['virus'])\n",
    "\n",
    "components = tableS1.reset_index()[['accession', 'virion classification*']].set_index('accession').squeeze()\n",
    "temporality = tableS1.reset_index()[['accession', 'temporal class']].set_index('accession').squeeze()\n",
    "components = components[~components.index.duplicated()]\n",
    "temporality = temporality[~temporality.index.duplicated()]"
   ]
  },
  {
   "cell_type": "code",
   "execution_count": 4,
   "metadata": {},
   "outputs": [
    {
     "name": "stdout",
     "output_type": "stream",
     "text": [
      "Duplicate entries detected, dropping duplicates\n"
     ]
    }
   ],
   "source": [
    "folder = r'..\\Skyline_reports'\n",
    "filename = 'HCMV_MOIs.csv'\n",
    "\n",
    "MOI = load_herpesvirusPRMreport(os.path.join(folder, filename), 'HCMV', replicate_fmt = 'timepoint_treatment_replicate')\n",
    "filename_mapping = MOI.reset_index()[['treatment', 'timepoint', 'replicate', 'File Name']].drop_duplicates().set_index('File Name')"
   ]
  },
  {
   "cell_type": "code",
   "execution_count": 5,
   "metadata": {},
   "outputs": [
    {
     "name": "stdout",
     "output_type": "stream",
     "text": [
      "Duplicate entries detected, dropping duplicates\n"
     ]
    }
   ],
   "source": [
    "fl = load_herpesvirusPRMreport(os.path.join(r'..\\Skyline_reports', 'HSV-1_frontal_lobe.csv'), 'HSV-1', n_points=1)\n",
    "fl_detected_peptides = fl.groupby(['temporality', 'treatment', 'Protein Gene', 'Protein Accession', 'Peptide Modified Sequence']).size().groupby(['temporality', 'treatment', 'Protein Gene', 'Protein Accession', ]).size().unstack(1)\n",
    "fl_detected_peptides['component'] = components.reindex(fl_detected_peptides.index, level='Protein Accession')\n",
    "fl_detected_peptides = fl_detected_peptides.reset_index().set_index(fl_detected_peptides.index.names+['component'])\n",
    "\n",
    "a = fl_detected_peptides['frontal lobe'].dropna().groupby(['Protein Gene', 'temporality']).size().groupby('temporality').size()/59\n",
    "a = pd.concat([a, tableS1.loc['HSV-1'].groupby(['gene name', 'temporal class']).size().groupby('temporal class').size()/59-a], keys = ['found', 'missing'], names = ['level']).dropna()\n",
    "a.index.names = ['level', 'temporality']\n",
    "\n",
    "b = fl_detected_peptides['frontal lobe'].dropna().groupby(['Protein Gene', 'component']).size().groupby('component').size()/59\n",
    "b = pd.concat([b, tableS1.loc['HSV-1'].groupby(['gene name', 'virion classification*']).size().groupby('virion classification*').size()/59-b], keys = ['found', 'missing'], names = ['level']).dropna()\n",
    "b.index.names = ['level', 'component']"
   ]
  },
  {
   "cell_type": "markdown",
   "metadata": {},
   "source": [
    "# Normalize Data"
   ]
  },
  {
   "cell_type": "markdown",
   "metadata": {},
   "source": [
    "### MS1 normalization"
   ]
  },
  {
   "cell_type": "code",
   "execution_count": 7,
   "metadata": {},
   "outputs": [],
   "source": [
    "filename = r'..\\MS1_intensities_RawMeat.csv'\n",
    "\n",
    "MS1 = pd.read_csv(filename, index_col=[0]).squeeze()\n",
    "MS1.index = MS1.index+'.raw'\n",
    "MS1 = pd.concat([MS1[MS1.index.isin(MOI.index.get_level_values('File Name').unique())], filename_mapping], axis=1).reset_index().set_index(['treatment', 'timepoint', 'replicate', 'File Name']).squeeze()\n",
    "ratios = MS1.groupby(['replicate']).apply(lambda x: x/x.mean())\n",
    "\n",
    "MOI_adj = MOI.groupby(ratios.index.names).apply(lambda x: x/ratios[x.name]).unstack('File Name').mean(axis=1)"
   ]
  },
  {
   "cell_type": "markdown",
   "metadata": {},
   "source": [
    "### Mean normalization"
   ]
  },
  {
   "cell_type": "code",
   "execution_count": 8,
   "metadata": {},
   "outputs": [],
   "source": [
    "cols = ['treatment', 'timepoint']\n",
    "MOI_norm = mean_normalize(MOI_adj.unstack(cols)).stack(cols)\n",
    "idx = MOI_norm.index.names\n",
    "MOI_norm = MOI_norm.reset_index()\n",
    "MOI_norm['replicate'] = MOI_norm['replicate'].where(MOI_norm['treatment']!='0.05-1', 'R1')\n",
    "MOI_norm['treatment'] = MOI_norm['treatment'].where(MOI_norm['treatment']!='0.05-1', '0.05').astype(float)\n",
    "MOI_norm = MOI_norm.set_index(idx).squeeze()\n",
    "\n",
    "MOI_avg = MOI_norm.unstack(['Peptide Modified Sequence']).mean(axis=1)\n",
    "MOI_mean = MOI_avg.unstack('replicate').mean(axis=1)"
   ]
  },
  {
   "cell_type": "markdown",
   "metadata": {},
   "source": [
    "# Export Supplemental Tables"
   ]
  },
  {
   "cell_type": "code",
   "execution_count": 11,
   "metadata": {},
   "outputs": [],
   "source": [
    "temp = MOI_norm.unstack(['treatment', 'timepoint', 'replicate']).T.sort_index().T\n",
    "temp.columns.names = ['MOI', 'time point (HPI)', 'replicate']\n",
    "temp.to_csv(r'..\\tables\\TableS3A.csv')"
   ]
  },
  {
   "cell_type": "markdown",
   "metadata": {},
   "source": [
    "# Make Figures"
   ]
  },
  {
   "cell_type": "code",
   "execution_count": 17,
   "metadata": {},
   "outputs": [],
   "source": [
    "low_detect = MOI_norm.unstack('treatment').apply(lambda x: x.unstack('replicate').notnull().any(axis=1).unstack('Peptide Modified Sequence').sum(axis=1)).unstack('timepoint').fillna(0)\n",
    "low_detect = low_detect[low_detect.index.get_level_values('temporality').isin(['IE','DE', 'LL', 'L'])].sort_index()\n",
    "n_peps = MOI_norm.groupby(low_detect.index.names).apply(lambda x: x.index.get_level_values('Peptide Modified Sequence').unique().shape[0])\n",
    "pct_low_detect = low_detect.apply(lambda x: x/n_peps.loc[x.index])*100\n",
    "\n",
    "pct_low_detect = pct_low_detect.reset_index()\n",
    "pct_low_detect['Protein Gene'] = [i.split('|')[-1].replace('_HCMVA', '') for i in pct_low_detect['Protein Gene']]\n",
    "pct_low_detect = pct_low_detect.set_index(['Protein Gene', 'Protein Accession', 'temporality'])\n",
    "\n",
    "low_detect = low_detect.reset_index()\n",
    "low_detect['Protein Gene'] = [i.split('|')[-1].replace('_HCMVA', '') for i in low_detect['Protein Gene']]\n",
    "low_detect = low_detect.set_index(['Protein Gene', 'Protein Accession', 'temporality'])"
   ]
  },
  {
   "cell_type": "markdown",
   "metadata": {},
   "source": [
    "### Fig. 3A"
   ]
  },
  {
   "cell_type": "code",
   "execution_count": 18,
   "metadata": {
    "scrolled": true
   },
   "outputs": [
    {
     "data": {
      "image/png": "[encoded data removed]",
      "text/plain": [
       "<Figure size 583.2x151.2 with 4 Axes>"
      ]
     },
     "metadata": {
      "needs_background": "light"
     },
     "output_type": "display_data"
    }
   ],
   "source": [
    "new_value = .17\n",
    "h = 2.1\n",
    "\n",
    "g = sns.catplot(data=(MOI_norm.unstack(['timepoint', 'treatment']).groupby(['temporality', 'Protein Gene', 'Peptide Modified Sequence']).apply(lambda x: x.notnull().any()).groupby('temporality').mean().stack([0, 1])*100).reset_index(),\n",
    "            x='treatment', y=0, hue='timepoint', col='temporality', kind='bar', col_order = ['IE', 'DE', 'LL', 'L'], \n",
    "                height=h, aspect = 8.1/h/4, legend=False, saturation=.75, \n",
    "                palette = [i for i in hcmv_palette(np.linspace(0.25, 1, 3))[::-1]],\n",
    "                hue_order = [24, 72, 120]\n",
    "               )\n",
    "\n",
    "for ax in g.axes.flat:\n",
    "    for patch in ax.patches :\n",
    "        current_width = patch.get_width()\n",
    "        diff = current_width - new_value\n",
    "\n",
    "        # we change the bar width\n",
    "        patch.set_width(new_value)\n",
    "\n",
    "        # we recenter the bar\n",
    "        patch.set_x(patch.get_x() + diff * .5)\n",
    "\n",
    "        r, b, g_, a = patch.get_facecolor()\n",
    "        patch.set_facecolor((r, b, g_, 0.55))\n",
    "        patch.set_edgecolor(pal[1])\n",
    "\n",
    "g.set_axis_labels(x_var='MOI', y_var='% peptides detected')\n",
    "g.set_titles(row_template = '{row_name}', col_template = '{col_name}')\n",
    "[ax.set_title('') for ax in g.axes.flat]\n",
    "g.axes.flat[0].get_figure().tight_layout()\n",
    "g.axes.flat[0].get_figure().savefig(r'..\\figures\\Fig3A.png', dpi=1000, bbox_inches='tight')\n",
    "plt.show()"
   ]
  },
  {
   "cell_type": "markdown",
   "metadata": {},
   "source": [
    "### Fig. 3B (graphic made in PowerPoint)"
   ]
  },
  {
   "cell_type": "code",
   "execution_count": 28,
   "metadata": {},
   "outputs": [
    {
     "name": "stdout",
     "output_type": "stream",
     "text": [
      "timepoint  treatment\n",
      "24         0.05         16\n",
      "           0.25         48\n",
      "           1.25         79\n",
      "           6.25         86\n",
      "72         0.05         59\n",
      "           0.25         89\n",
      "           1.25         90\n",
      "           6.25         90\n",
      "120        0.05         90\n",
      "           0.25         90\n",
      "           1.25         90\n",
      "           6.25         90\n",
      "dtype: int64\n"
     ]
    }
   ],
   "source": [
    "print((low_detect>0).sum().swaplevel().sort_index())"
   ]
  },
  {
   "cell_type": "markdown",
   "metadata": {},
   "source": [
    "### Fig. 3C"
   ]
  },
  {
   "cell_type": "code",
   "execution_count": 35,
   "metadata": {
    "scrolled": false
   },
   "outputs": [
    {
     "data": {
      "image/png": "[encoded data removed]",
      "text/plain": [
       "<Figure size 576x619.2 with 1 Axes>"
      ]
     },
     "metadata": {
      "needs_background": "light"
     },
     "output_type": "display_data"
    },
    {
     "data": {
      "image/png": "[encoded data removed]",
      "text/plain": [
       "<Figure size 576x541.8 with 1 Axes>"
      ]
     },
     "metadata": {
      "needs_background": "light"
     },
     "output_type": "display_data"
    }
   ],
   "source": [
    "component_colors = dict(zip(['capsid', 'non-structural', 'envelope', 'tegument'], \n",
    "                            [sns.color_palette('tab10')[0]]+sns.color_palette('tab10')[2:5]))\n",
    "\n",
    "ts = ['IE', 'DE', 'LL', 'L']\n",
    "data = pct_low_detect.reset_index('Protein Accession', drop=True).swaplevel().sort_index()\n",
    "data = pd.concat([data.loc[[t], :].sort_index() for t in ts], sort=False).T\n",
    "ns = (low_detect.reset_index(['Protein Accession'], drop=True).T[data.swaplevel(axis=1).columns]>0)*1\n",
    "first_timepoint = ns.where(ns!=0, np.nan).apply(lambda x: x.groupby('treatment').apply(lambda y: y.first_valid_index()[-1])).swaplevel(axis=1)\n",
    "\n",
    "h = 8.6\n",
    "r = h/max([first_timepoint[t].shape[1] for t in [['IE', 'DE'], ['LL', 'L']]])\n",
    "\n",
    "for i, ts in enumerate([['IE', 'DE'], ['LL', 'L']]):\n",
    "    \n",
    "    to_plot = pd.concat([first_timepoint[t] for t in ts], sort=False, axis=1)\n",
    "    \n",
    "    fig, ax = plt.subplots(figsize=(8, r*to_plot.shape[1]))\n",
    "    \n",
    "    sns.heatmap(to_plot.T, \n",
    "                cmap = sns.light_palette(pal[1], as_cmap=True, reverse=True), \n",
    "                ax=ax, \n",
    "                cbar=False, \n",
    "                yticklabels = to_plot.columns, \n",
    "                square=True\n",
    "               )\n",
    "\n",
    "    ax.xaxis.tick_top()\n",
    "    ax.set_xticklabels([])\n",
    "    ax.set_ylim(to_plot.T.shape[0], 0)\n",
    "\n",
    "    ax.set_xlabel('')\n",
    "    ax.set_ylabel('')\n",
    "    \n",
    "    for l in ax.get_yticklabels():\n",
    "        l.set_color(component_colors[tableS1.set_index('gene name')['virion classification*'][[l._text]].unique()[0]])\n",
    "\n",
    "    plt.tick_params(color='white')\n",
    "    fig.tight_layout()\n",
    "\n",
    "    fig.savefig(r'..\\figures\\Fig3C_pt{}.png'.format(i+1), dpi=1000, bbox_inches='tight')\n",
    "    plt.show()"
   ]
  },
  {
   "cell_type": "markdown",
   "metadata": {},
   "source": [
    "### Fig. 3D"
   ]
  },
  {
   "cell_type": "code",
   "execution_count": 14,
   "metadata": {},
   "outputs": [
    {
     "data": {
      "image/png": "[encoded data removed]",
      "text/plain": [
       "<Figure size 302.4x230.4 with 4 Axes>"
      ]
     },
     "metadata": {
      "needs_background": "light"
     },
     "output_type": "display_data"
    }
   ],
   "source": [
    "fig, axs =plt.subplots(figsize=(4.2, 3.2), nrows=2, ncols=2, sharey=True)\n",
    "\n",
    "for ax, t in zip(axs.flatten(), ['IE', 'DE', 'LL', 'L']):\n",
    "    to_plot = MOI_mean[MOI_mean.index.get_level_values('temporality')==t]\n",
    "    \n",
    "    sns.lineplot(data=to_plot.reset_index(), x='timepoint', y=0, \n",
    "                 hue='treatment', \n",
    "                 palette=bright_pal, \n",
    "                 ax=ax,\n",
    "                 err_style='bars', err_kws = {'capsize': 2}\n",
    "                )\n",
    "    \n",
    "    ax.get_legend().remove()\n",
    "    ax.spines['top'].set_visible(False)\n",
    "    ax.spines['right'].set_visible(False)\n",
    "    ax.set_xticks([24, 48, 72, 96, 120])\n",
    "    \n",
    "    #ax.set_yticklabels([])\n",
    "    #ax.set_xticklabels([])\n",
    "    ax.set_xlabel('HPI')\n",
    "    ax.set_ylabel('')\n",
    "    \n",
    "[ax.set_ylabel('norm. abundance') for ax in axs[:, 0]] \n",
    "\n",
    "fig.tight_layout()\n",
    "\n",
    "plt.subplots_adjust(hspace=.75, wspace=0.3)\n",
    "fig.savefig(r'..\\figures\\Fig3D.png', dpi=1000, bbox_inches='tight')\n",
    "plt.show()\n",
    "plt.close()\n",
    "\n"
   ]
  },
  {
   "cell_type": "markdown",
   "metadata": {},
   "source": [
    "### Fig. 3E"
   ]
  },
  {
   "cell_type": "code",
   "execution_count": 15,
   "metadata": {},
   "outputs": [
    {
     "data": {
      "image/png": "[encoded data removed]",
      "text/plain": [
       "<Figure size 144x244.8 with 2 Axes>"
      ]
     },
     "metadata": {
      "needs_background": "light"
     },
     "output_type": "display_data"
    }
   ],
   "source": [
    "fig, axs =plt.subplots(figsize=(2, 3.4), nrows=2, sharey=True)\n",
    "\n",
    "for p, ax in zip(['US12', 'US15'], axs):\n",
    "    sns.lineplot(data=MOI_norm[MOI_norm.index.get_level_values('Protein Gene')==p].reset_index(), x='timepoint', y=0, \n",
    "                 hue='treatment', \n",
    "                 palette=bright_pal[1:], \n",
    "                 ax=ax,\n",
    "                 hue_order = [0.25, 1.25, 6.25],\n",
    "                 err_style='bars', err_kws = {'capsize': 2}\n",
    "                )\n",
    "    \n",
    "    ax.get_legend().remove()\n",
    "    ax.spines['top'].set_visible(False)\n",
    "    ax.spines['right'].set_visible(False)\n",
    "    ax.set_xticks([24, 48, 72, 96, 120])\n",
    "    ax.set_title(p)\n",
    "    \n",
    "    ax.set_xlabel('HPI')\n",
    "    ax.set_ylabel('norm. abundance')\n",
    "    ax.set_ylim(0, 4)\n",
    "    ax.set_yticks(range(5))\n",
    "\n",
    "fig.tight_layout()\n",
    "fig.savefig(r'..\\figures\\Fig3E.png', dpi=1000, bbox_inches='tight')\n",
    "plt.show()\n",
    "plt.close()"
   ]
  },
  {
   "cell_type": "markdown",
   "metadata": {},
   "source": [
    "### Fig. 3F"
   ]
  },
  {
   "cell_type": "code",
   "execution_count": 88,
   "metadata": {},
   "outputs": [
    {
     "name": "stdout",
     "output_type": "stream",
     "text": [
      "# proteins detected: 47 (80%)\n",
      "# peptides detected: 90 (49%)\n"
     ]
    }
   ],
   "source": [
    "print('# proteins detected: {:.0f} ({:.0f}%)'.format((temp['frontal lobe']>0).sum(), (temp['frontal lobe']>0).sum()/59*100))\n",
    "print('# peptides detected: {:.0f} ({:.0f}%)'.format(temp['frontal lobe'].sum(), temp['frontal lobe'].sum()/184*100))"
   ]
  },
  {
   "cell_type": "markdown",
   "metadata": {},
   "source": [
    "### Fig. 3G (pie charts annotated in PowerPoint)"
   ]
  },
  {
   "cell_type": "code",
   "execution_count": 77,
   "metadata": {},
   "outputs": [
    {
     "name": "stdout",
     "output_type": "stream",
     "text": [
      "level    temporality\n",
      "found    E              12.0\n",
      "         IE              4.0\n",
      "         L              31.0\n",
      "missing  E               4.0\n",
      "         IE              1.0\n",
      "         L               7.0\n",
      "dtype: float64\n",
      "=========================\n",
      "level    component     \n",
      "found    capsid             7.0\n",
      "         envelope           8.0\n",
      "         non-structural    12.0\n",
      "         tegument          20.0\n",
      "missing  capsid             1.0\n",
      "         envelope           3.0\n",
      "         non-structural     5.0\n",
      "         tegument           3.0\n",
      "dtype: float64\n"
     ]
    }
   ],
   "source": [
    "print((a*59))\n",
    "print('=========================')\n",
    "print((b*59))"
   ]
  },
  {
   "cell_type": "code",
   "execution_count": 68,
   "metadata": {},
   "outputs": [
    {
     "data": {
      "image/png": "[encoded data removed]",
      "text/plain": [
       "<Figure size 252x86.4 with 2 Axes>"
      ]
     },
     "metadata": {},
     "output_type": "display_data"
    }
   ],
   "source": [
    "fig, axs = plt.subplots(figsize = (3.5, 1.2), ncols=2)\n",
    "\n",
    "component_colors = dict(zip(['capsid', 'non-structural', 'envelope', 'tegument'], \n",
    "                            [sns.color_palette('tab10')[0]]+sns.color_palette('tab10')[2:5]))\n",
    "\n",
    "cm = list(zip(sns.light_palette((168/256, 97/256, 92/256), as_cmap=True)([10, 150, 250]).tolist(), ['white', 'white', 'white']))\n",
    "cm = [j for i in cm for j in i]\n",
    "patches, text = axs[0].pie(\n",
    "    a.swaplevel().sort_index()[['IE', 'E', 'L']], \n",
    "    colors = cm, \n",
    "#     labels = ['IE', '', 'E', '', 'L', ''],\n",
    "    counterclock=False,\n",
    "    normalize=False,\n",
    "    startangle=45,\n",
    "    labeldistance=0.8,\n",
    "#     textprops = {'fontsize':14, 'ha': 'center', 'va': 'center'},\n",
    "    radius=1\n",
    ")\n",
    "    \n",
    "cm = list(zip([component_colors[i] for i in b.swaplevel().sort_index().iloc[::2].reset_index()['component']], ['white']*4))\n",
    "cm = [j for i in cm for j in i]\n",
    "patches, text = axs[1].pie(\n",
    "    b.swaplevel().sort_index(), \n",
    "    colors = cm, \n",
    "#     labels = ['IE', '', 'E', '', 'L', ''],\n",
    "    counterclock=False,\n",
    "    normalize=False,\n",
    "    startangle=45,\n",
    "    labeldistance=0.8,\n",
    "#     textprops = {'fontsize':14, 'ha': 'center', 'va': 'center'},\n",
    "    radius=1\n",
    ")\n",
    "\n",
    "for p in patches[::2]:\n",
    "    p.set_alpha(0.5)\n",
    "\n",
    "fig.tight_layout()\n",
    "plt.subplots_adjust(wspace=-0.3)\n",
    "fig.savefig(r'..\\figures\\Fig3G.png', dpi=1000, bbox_inches='tight')\n",
    "plt.show()"
   ]
  },
  {
   "cell_type": "markdown",
   "metadata": {},
   "source": [
    "### Fig. S6A"
   ]
  },
  {
   "cell_type": "code",
   "execution_count": 26,
   "metadata": {},
   "outputs": [
    {
     "data": {
      "image/png": "[encoded data removed]",
      "text/plain": [
       "<Figure size 324x180 with 2 Axes>"
      ]
     },
     "metadata": {
      "needs_background": "light"
     },
     "output_type": "display_data"
    }
   ],
   "source": [
    "fig, axs = plt.subplots(ncols=2, figsize = (4.5, 2.5), sharey=True)\n",
    "\n",
    "ax = axs[0]\n",
    "data=MOI_norm.unstack('temporality')[['IE', 'DE', 'LL', 'L']].stack().reset_index()\n",
    "data['treatment'] = data['treatment'].astype(float)\n",
    "\n",
    "sns.lineplot(data=data, x='treatment', y=0, hue='timepoint', \n",
    "             palette = sns.light_palette(pal[1], n_colors=4)[1:],\n",
    "             ax=ax,\n",
    "             err_style='bars', err_kws = {'capsize': 2}\n",
    "            )\n",
    "\n",
    "ax.get_legend().remove()\n",
    "ax.spines['top'].set_visible(False)\n",
    "ax.spines['right'].set_visible(False)\n",
    "ax.set_xticks([0, 1, 2, 3, 4, 5, 6])\n",
    "ax.set_ylim(ax.get_ylim()[0], 3)\n",
    "#ax.set_yticklabels([])\n",
    "#ax.set_xticklabels([])\n",
    "ax.set_xlabel('')\n",
    "ax.set_ylabel('')\n",
    "ax.set_title('Abundance v. MOI')\n",
    "    \n",
    "ax.set_ylabel('norm. abundance')\n",
    "ax.set_xlabel('MOI')\n",
    "\n",
    "ax = axs[1]\n",
    "data=MOI_norm.unstack('temporality')[['IE', 'DE', 'LL', 'L']].stack().reset_index()\n",
    "data['treatment'] = data['treatment'].astype(float).map(poisson)\n",
    "\n",
    "sns.lineplot(data=data, x='treatment', y=0, hue='timepoint', \n",
    "             palette = sns.light_palette(pal[1], n_colors=4)[1:],\n",
    "             ax=ax,\n",
    "             err_style='bars', err_kws = {'capsize': 2}\n",
    "            )\n",
    "\n",
    "ax.get_legend().remove()\n",
    "ax.spines['top'].set_visible(False)\n",
    "ax.spines['right'].set_visible(False)\n",
    "ax.set_xticks(np.linspace(0, 1, 5))\n",
    "ax.set_xticklabels([0, 25, 50, 75, 100])\n",
    "#ax.set_yticklabels([])\n",
    "#ax.set_xticklabels([])\n",
    "\n",
    "ax.set_xlabel('')\n",
    "ax.set_ylabel('norm. abundance')\n",
    "ax.set_title('Abundance v. % infected')\n",
    "\n",
    "ax.set_xlabel('% infected cells\\n(theoretical)')\n",
    "\n",
    "fig.tight_layout()\n",
    "fig.savefig(r'..\\figures\\FigS6A.png', dpi=1000, bbox_inches='tight')\n",
    "plt.show()"
   ]
  },
  {
   "cell_type": "code",
   "execution_count": null,
   "metadata": {},
   "outputs": [],
   "source": []
  }
 ],
 "metadata": {
  "kernelspec": {
   "display_name": "Python 3",
   "language": "python",
   "name": "python3"
  },
  "language_info": {
   "codemirror_mode": {
    "name": "ipython",
    "version": 3
   },
   "file_extension": ".py",
   "mimetype": "text/x-python",
   "name": "python",
   "nbconvert_exporter": "python",
   "pygments_lexer": "ipython3",
   "version": "3.8.8"
  }
 },
 "nbformat": 4,
 "nbformat_minor": 4
}
