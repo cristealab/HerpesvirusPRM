{
 "cells": [
  {
   "cell_type": "code",
   "execution_count": 15,
   "id": "c3c85cb3",
   "metadata": {},
   "outputs": [],
   "source": [
    "import pandas as pd\n",
    "import numpy as np\n",
    "import seaborn as sns\n",
    "import matplotlib.pyplot as plt\n",
    "import os\n",
    "import re\n",
    "\n",
    "# define cmaps for viruses\n",
    "hsv1_palette_r = sns.light_palette((168/256, 97/256, 92/256), reverse=False, as_cmap=True)\n",
    "hcmv_palette_r = sns.light_palette((71/256, 103/256, 133/256), reverse=False, as_cmap=True)\n",
    "kshv_palette_r = sns.light_palette((113/256, 175/256, 71/256), reverse=False, as_cmap=True)\n",
    "\n",
    "pal = ['#af6e69', '#50627c', '#588c4a', '#5c5c5c'] # light palette\n",
    "sns.set_palette(pal)\n",
    "sns.set_context('paper')\n",
    "\n",
    "bright_pal = [pal[0]]+['#3b5f91']+pal[2:]"
   ]
  },
  {
   "cell_type": "markdown",
   "id": "e4ab027e",
   "metadata": {},
   "source": [
    "# Load Data"
   ]
  },
  {
   "cell_type": "code",
   "execution_count": 2,
   "id": "f57c2d73",
   "metadata": {},
   "outputs": [],
   "source": [
    "info = pd.concat({v:pd.read_csv(r'..\\data\\assay info_{}.csv'.format(v)) for v in ['HSV-1', 'HCMV', 'KSHV']}, names =['virus'])\n",
    "info['Peptide Length'] = info['Peptide Modified Sequence'].apply(lambda x: len(x))"
   ]
  },
  {
   "cell_type": "markdown",
   "id": "eb374b66",
   "metadata": {},
   "source": [
    "### Query NCBI database for complete genome sequences from HSV-1, HCMV, and KSHV\n",
    "*Note: This section of code may take minutes to hours to run depending on internet speed*"
   ]
  },
  {
   "cell_type": "code",
   "execution_count": 9,
   "id": "a2e144f8",
   "metadata": {},
   "outputs": [],
   "source": [
    "taxids = pd.read_csv(r'..\\data\\all_herpesvirus_taxids.txt', sep='\\t', header=None).squeeze().values\n",
    "taxids\n",
    "\n",
    "from Bio import Entrez\n",
    "from Bio.SeqIO.FastaIO import SimpleFastaParser\n",
    "from Bio.Seq import Seq\n",
    "from io import StringIO\n",
    "import time\n",
    "\n",
    "Entrez.email = \"YOUR EMAIL\"  # Always tell NCBI who you are\n",
    "Entrez.api_key = '253e234ee43fd6592e85ef2ac0b1c7d09f09'\n",
    "\n",
    "\n",
    "handle = Entrez.efetch('taxonomy', id=taxids.astype(str).tolist(), rettype='xml')\n",
    "response = Entrez.read(handle)\n",
    "txid_names = pd.Series([d['ScientificName'] for d in response], index=taxids)\n",
    "\n",
    "queries = {'HSV-1':['Human alphaherpesvirus 1', 'Herpes simplex virus type 1', 'Human herpesvirus 1'],\n",
    "           'HCMV':['Human herpesvirus 5', 'Human betaherpesvirus 5','Human cytomegalovirus'], \n",
    "           'KSHV':['Human herpesvirus 8', 'Human gammaherpesvirus 8']}\n",
    "\n",
    "df=pd.concat([pd.concat([txid_names.str.contains(i) for i in queries[v]], axis=1, keys=queries[v]) for v in queries], axis=1, keys=queries.keys(), names = ['virus', 'str'])\n",
    "df = df[df.any(axis=1)].groupby('virus', axis=1).any()\n",
    "\n",
    "human_txids = df.index.values.astype(str).tolist()\n",
    "\n"
   ]
  },
  {
   "cell_type": "code",
   "execution_count": 10,
   "id": "729e3ef7",
   "metadata": {
    "scrolled": true
   },
   "outputs": [
    {
     "name": "stdout",
     "output_type": "stream",
     "text": [
      "1/49: taxid = 1177628\n",
      "2/49: taxid = 946522\n",
      "3/49: taxid = 868565\n",
      "4/49: taxid = 744249\n",
      "5/49: taxid = 651668\n",
      "6/49: taxid = 435895\n",
      "7/49: taxid = 311339\n",
      "8/49: taxid = 295027\n",
      "9/49: taxid = 213999\n",
      "10/49: taxid = 213998\n",
      "11/49: taxid = 213997\n",
      "12/49: taxid = 103921\n",
      "13/49: taxid = 73483\n",
      "14/49: taxid = 69169\n",
      "15/49: taxid = 69168\n",
      "16/49: taxid = 69167\n",
      "17/49: taxid = 69166\n",
      "18/49: taxid = 69165\n",
      "19/49: taxid = 69164\n",
      "20/49: taxid = 69163\n",
      "21/49: taxid = 69162\n",
      "22/49: taxid = 37296\n",
      "23/49: taxid = 37107\n",
      "24/49: taxid = 37106\n",
      "25/49: taxid = 36346\n",
      "26/49: taxid = 36345\n",
      "27/49: taxid = 10363\n",
      "28/49: taxid = 10362\n",
      "29/49: taxid = 10361\n",
      "30/49: taxid = 10360\n",
      "31/49: taxid = 10359\n",
      "32/49: taxid = 10316\n",
      "33/49: taxid = 10315\n",
      "34/49: taxid = 10314\n",
      "35/49: taxid = 10313\n",
      "36/49: taxid = 10312\n",
      "37/49: taxid = 10310\n",
      "38/49: taxid = 10309\n",
      "39/49: taxid = 10308\n",
      "40/49: taxid = 10307\n",
      "41/49: taxid = 10306\n",
      "42/49: taxid = 10305\n",
      "43/49: taxid = 10304\n",
      "44/49: taxid = 10303\n",
      "45/49: taxid = 10302\n",
      "46/49: taxid = 10301\n",
      "47/49: taxid = 10300\n",
      "48/49: taxid = 10299\n",
      "49/49: taxid = 10298\n"
     ]
    },
    {
     "name": "stderr",
     "output_type": "stream",
     "text": [
      "C:\\Users\\mak4\\AppData\\Local\\Temp/ipykernel_22684/3377204733.py:27: DeprecationWarning: The default dtype for empty Series will be 'object' instead of 'float64' in a future version. Specify a dtype explicitly to silence this warning.\n",
      "  results = pd.concat({ncbiTaxId: pd.Series(genomes[ncbiTaxId]) for ncbiTaxId in genomes}, names = ['taxid', 'title'])\n"
     ]
    }
   ],
   "source": [
    "entrezDbName = 'nucleotide'\n",
    "retmax=100000\n",
    "genomes = {}\n",
    "\n",
    "for i, ncbiTaxId in enumerate(human_txids, 1):\n",
    "    genomes[ncbiTaxId]={}\n",
    "\n",
    "    # Find entries matching the query\n",
    "    entrezQuery = \"txid%s[organism] AND complete genome[title]\"%(ncbiTaxId)\n",
    "    searchResultHandle = Entrez.esearch(db=entrezDbName, term=entrezQuery, retmax = retmax, retstart=0)\n",
    "    searchResult = Entrez.read(searchResultHandle)\n",
    "    searchResultHandle.close()\n",
    "    time.sleep(0.1)\n",
    "\n",
    "    # Get the data.\n",
    "    uidList = ','.join(searchResult['IdList'])\n",
    "    entryData = Entrez.efetch(db=entrezDbName, id=uidList, rettype='fasta', retmax=retmax, retstart=0)\n",
    "\n",
    "    for k, v in SimpleFastaParser(StringIO(entryData.read())):\n",
    "        genomes[ncbiTaxId][k] = v\n",
    "\n",
    "    entryData.close()\n",
    "    time.sleep(0.1)\n",
    "    \n",
    "    print('{}/{}: taxid = {}'.format(i, len(human_txids), ncbiTaxId))\n",
    "\n",
    "results = pd.concat({ncbiTaxId: pd.Series(genomes[ncbiTaxId]) for ncbiTaxId in genomes}, names = ['taxid', 'title'])\n"
   ]
  },
  {
   "cell_type": "code",
   "execution_count": 11,
   "id": "1f311169",
   "metadata": {},
   "outputs": [
    {
     "name": "stdout",
     "output_type": "stream",
     "text": [
      "0/434...100/434...200/434...300/434...400/434..."
     ]
    }
   ],
   "source": [
    "def make_seqs(x):\n",
    "    seq = Seq(x)\n",
    "    revseq = seq.reverse_complement()\n",
    "    \n",
    "    fwd_translate = []\n",
    "    rev_translate = []\n",
    "    \n",
    "    for i in range(3):\n",
    "        fwd_translate.append(str((seq[i:]+'N'*(3-len(seq[i:])%3)).translate()))\n",
    "        rev_translate.append(str((revseq[i:]+'N'*(3-len(revseq[i:])%3)).translate()))\n",
    "    \n",
    "    fwd_translate = pd.Series(fwd_translate)\n",
    "    rev_translate = pd.Series(rev_translate)\n",
    "    \n",
    "    return pd.concat([fwd_translate, rev_translate], keys = ['forward', 'reverse'], names = ['strand', 'frame'])\n",
    "\n",
    "translated = {}\n",
    "\n",
    "for i, (idx, x) in enumerate(results.iteritems()):\n",
    "    translated[idx]=make_seqs(x)\n",
    "    \n",
    "    if i%100==0:\n",
    "        print('{}/{}'.format(i, len(results)), end='...')\n",
    "        \n",
    "all_seqs = pd.concat(translated, names = results.index.names)\n",
    "all_seqs.index = pd.MultiIndex.from_tuples([(a, b, c, d, e) for (a, b, c, d), e in zip(all_seqs.index.values, df.idxmax(axis=1).reindex(all_seqs.index.get_level_values('taxid').astype(int)).values)], names = ['taxid', 'id', 'strand', 'frame', 'virus'])"
   ]
  },
  {
   "cell_type": "code",
   "execution_count": 15,
   "id": "55114c63",
   "metadata": {},
   "outputs": [],
   "source": [
    "def get_ORFs(seq):\n",
    "    # have to replace the * character\n",
    "    ORFs = pd.Series(re.findall('(M.*?)X', seq.replace('*', 'X')))\n",
    "    \n",
    "    return ORFs\n",
    "\n",
    "ORFs = all_seqs.apply(get_ORFs).stack()\n",
    "ORFs = ORFs[ORFs.apply(lambda x: len(x))>=30]\n",
    "\n",
    "ORF_lens = ORFs.apply(lambda x: len(x))\n",
    "ORF_cnt_K = ORFs.str.count('K')\n",
    "ORF_cnt_R = ORFs.str.count('R')\n",
    "\n",
    "ORF_pct_K = ORF_cnt_K.groupby(['virus', 'id']).sum()/ORF_lens.groupby(['virus', 'id']).sum()\n",
    "ORF_pct_R = ORF_cnt_R.groupby(['virus', 'id']).sum()/ORF_lens.groupby(['virus', 'id']).sum()\n",
    "ORF_pct_KR = ORF_pct_K+ORF_pct_R\n",
    "ORF_combined = pd.concat([ORF_pct_K, ORF_pct_R, ORF_pct_KR], keys = ['K', 'R', 'K+R'], names =['metric'])"
   ]
  },
  {
   "cell_type": "code",
   "execution_count": 20,
   "id": "3813c06c",
   "metadata": {},
   "outputs": [],
   "source": [
    "tryp_ORFs = ORFs.str.split('(?<=[KR])(?!P)', expand=True).stack()\n",
    "tryp_ORF_lens = tryp_ORFs.apply(lambda x: len(x))\n",
    "\n",
    "bins = pd.concat([(tryp_ORF_lens>=i)&(tryp_ORF_lens<j) for i, j in zip([0, 5, 10, 20, 30, 40, 50], [5, 10, 20, 30, 40, 50, tryp_ORF_lens.max()])], axis=1)\n",
    "binned = pd.concat([bins[bins.index.get_level_values('id').str.contains(strain, case=False)].groupby(['virus']).sum() for strain in ['strain 17', 'SC16', 'strain F', 'AD169', 'merlin', 'towne', 'BAC16', 'BC1', 'GK18']], keys = ['17', 'SC16', 'F', 'AD169', 'Merlin', 'Towne', 'BAC16', 'BC-1', 'GK18'], names = ['strain'])"
   ]
  },
  {
   "cell_type": "code",
   "execution_count": 21,
   "id": "d46d5e00",
   "metadata": {},
   "outputs": [],
   "source": [
    "short = (tryp_ORF_lens<5).groupby(['virus', 'id']).sum()/tryp_ORF_lens.groupby(['virus', 'id']).size()\n",
    "long = (tryp_ORF_lens>30).groupby(['virus', 'id']).sum()/tryp_ORF_lens.groupby(['virus', 'id']).size()\n",
    "middle = 1-short-long\n",
    "\n",
    "amenable = pd.concat([short, middle, long], axis=1, names = ['designation'], keys = ['too short (<5 AA)', 'amenable to MS', 'too long (>30 AA)'])"
   ]
  },
  {
   "cell_type": "code",
   "execution_count": 17,
   "id": "7f7ce9d6",
   "metadata": {},
   "outputs": [],
   "source": [
    "expression = pd.read_csv(r'..\\data\\TUBA1A_MYO5A_MYH9_expression.txt', sep='\\t', index_col=0)\n",
    "expression = expression.T[expression.dtypes==float]\n",
    "expression.index = expression.index.str.replace(r' [NX]', '', regex=False).str.split(' - ', expand=True)\n",
    "expression.index.names = ['RNA type', 'specific type']\n",
    "expression = expression[expression.index.get_level_values('RNA type').isin(['Tissue RNA', 'Single Cell Type RNA'])]\n",
    "expression.index = pd.MultiIndex.from_tuples([(i, re.sub('(?<!type) 1', '', j.lower())) for i, j in expression.index.values], names=expression.index.names)\n",
    "\n",
    "tissueTOorgan = pd.read_csv(r'..\\data\\ProteinAtlasOrgans.csv', index_col=1).squeeze()\n",
    "tissueTOorgan.index = tissueTOorgan.index.str.lower()\n",
    "\n",
    "celltypeTOfamily = pd.read_csv(r'..\\data\\ProteinAtlasCellFamilies.csv', index_col=1).squeeze()\n",
    "celltypeTOfamily.index = celltypeTOfamily.index.str.lower()\n",
    "\n",
    "expression['family/organ'] = pd.Series(tissueTOorgan.reindex(expression.loc['Tissue RNA', :].index).values.tolist()+celltypeTOfamily.reindex(expression.loc['Single Cell Type RNA', :].index).values.tolist(), index=expression.index)\n",
    "expression = expression.reset_index().set_index(expression.index.names +['family/organ'])\n",
    "\n",
    "expression.groupby(['RNA type', 'family/organ']).size()\n",
    "sel = ['Epithelial cells', 'Mesenchymal cells', 'Vascular cells', 'Blood & immune cells', 'Neuronal cells', 'Skin', 'Blood', 'Bone marrow & lymphoid tissues', 'Brain', 'Eye']\n"
   ]
  },
  {
   "cell_type": "markdown",
   "id": "e74b298e",
   "metadata": {},
   "source": [
    "# Make Figures"
   ]
  },
  {
   "cell_type": "markdown",
   "id": "9095b378",
   "metadata": {},
   "source": [
    "### Fig. S1A"
   ]
  },
  {
   "cell_type": "code",
   "execution_count": 19,
   "id": "7aa86a1e",
   "metadata": {},
   "outputs": [
    {
     "data": {
      "image/png": "[encoded data removed]",
      "text/plain": [
       "<Figure size 417.6x144 with 3 Axes>"
      ]
     },
     "metadata": {
      "needs_background": "light"
     },
     "output_type": "display_data"
    }
   ],
   "source": [
    "import matplotlib.patches\n",
    "\n",
    "fig, axs = plt.subplots(ncols=3, figsize = (5.8, 2), sharex=False, sharey=True)\n",
    "\n",
    "to_plot = pd.concat([ORF_combined[ORF_combined.index.get_level_values('id').str.contains(strain, case=False)].groupby(['virus', 'metric']).mean()*100 for strain in ['strain 17', 'SC16', 'strain F', 'AD169', 'merlin', 'towne', 'BAC16', 'BC1','GK18']], keys = ['17', 'SC16', 'F', 'AD169', 'Merlin', 'Towne', 'BAC16', 'BC-1', 'GK18'], names = ['strain'])\n",
    "\n",
    "for v, ax, p in zip(['HSV-1', 'HCMV', 'KSHV'], axs, pal):\n",
    "    sns.barplot(data=to_plot[to_plot.index.get_level_values('virus')==v].reset_index(), \n",
    "                x='strain', y=0, hue='metric', \n",
    "                dodge=False, \n",
    "                hue_order = ['K+R', 'R', 'K'], \n",
    "                palette = sns.light_palette(p, 3, reverse=True),\n",
    "                linewidth=1,\n",
    "                edgecolor=p,\n",
    "                ax=ax\n",
    "               )\n",
    "\n",
    "    ax.spines['top'].set_visible(False)\n",
    "    ax.spines['right'].set_visible(False)\n",
    "    ax.get_legend().remove()\n",
    "\n",
    "    ax.set_xlabel(v)\n",
    "    ax.set_ylabel('')\n",
    "\n",
    "axs[0].set_ylabel('% of amino acids')\n",
    "handles = [matplotlib.patches.Patch(facecolor = c, edgecolor='k') for c in sns.light_palette('grey', 3)]\n",
    "ax.legend(handles, ['Lysine (K)', 'Arginine (R)', 'Lysine + Arginine (K + R)',], \n",
    "          bbox_to_anchor=(0, 1.02, 1.05, 0.2), frameon=False, ncol=3)\n",
    "\n",
    "fig.savefig(r'..\\figures\\FigS1A.png', dpi=1000, bbox_inches='tight')\n",
    "plt.show()"
   ]
  },
  {
   "cell_type": "markdown",
   "id": "de40eb1d",
   "metadata": {},
   "source": [
    "### Fig. S1B"
   ]
  },
  {
   "cell_type": "code",
   "execution_count": 23,
   "id": "52e485fa",
   "metadata": {},
   "outputs": [
    {
     "data": {
      "image/png": "[encoded data removed]",
      "text/plain": [
       "<Figure size 417.6x144 with 3 Axes>"
      ]
     },
     "metadata": {
      "needs_background": "light"
     },
     "output_type": "display_data"
    }
   ],
   "source": [
    "fig, axs = plt.subplots(ncols=3, figsize = (5.8, 2), sharex=False, sharey=True)\n",
    "\n",
    "to_plot = pd.concat([amenable[amenable.index.get_level_values('id').str.contains(strain, case=False)].groupby(['virus']).mean()*100 for strain in ['strain 17', 'SC16', 'strain F', 'AD169', 'merlin', 'towne', 'BAC16', 'BC1','GK18']], keys = ['17', 'SC16', 'F', 'AD169', 'Merlin', 'Towne', 'BAC16', 'BC-1', 'GK18'], names = ['strain'])\n",
    "\n",
    "for v, ax, p in zip(['HSV-1', 'HCMV', 'KSHV'], axs, pal):\n",
    "\n",
    "    sns.barplot(data=to_plot[to_plot.index.get_level_values('virus')==v].stack().reset_index(),\n",
    "                x = 'strain',y=0, hue='designation', \n",
    "                hue_order = ['too short (<5 AA)', 'amenable to MS', 'too long (>30 AA)'], \n",
    "                ax=ax,\n",
    "                palette = sns.light_palette(p, 3),\n",
    "                linewidth=1,\n",
    "                edgecolor=p,\n",
    "               )\n",
    "\n",
    "    ax.spines['top'].set_visible(False)\n",
    "    ax.spines['right'].set_visible(False)\n",
    "    ax.get_legend().remove()\n",
    "\n",
    "    ax.set_xlabel(v)\n",
    "    ax.set_ylabel('')\n",
    "    \n",
    "\n",
    "axs[0].set_ylabel('% of tryptic peptides')\n",
    "handles = [matplotlib.patches.Patch(facecolor = c, edgecolor='k') for c in sns.light_palette('grey', 3)]\n",
    "ax.legend(handles, ['too short (<5 AA)', 'amenable to MS', 'too long (>30 AA)',], bbox_to_anchor=(0, 1.02, 1.1, 0.2), frameon=False, ncol=3, )\n",
    "\n",
    "fig.savefig(r'..\\figures\\FigS1B.png', dpi=1000, bbox_inches='tight')\n",
    "plt.show()"
   ]
  },
  {
   "cell_type": "markdown",
   "id": "bd057f2a",
   "metadata": {},
   "source": [
    "### Fig. S1D"
   ]
  },
  {
   "cell_type": "code",
   "execution_count": 11,
   "id": "3b99622a",
   "metadata": {},
   "outputs": [
    {
     "data": {
      "image/png": "[encoded data removed]",
      "text/plain": [
       "<Figure size 388.8x223.2 with 3 Axes>"
      ]
     },
     "metadata": {
      "needs_background": "light"
     },
     "output_type": "display_data"
    }
   ],
   "source": [
    "fig, axs = plt.subplots(ncols = 3, figsize = (5.4, 3.1), sharex=True,)\n",
    "\n",
    "for v,c, ax in zip(['HSV-1','HCMV', 'KSHV'], pal, axs):\n",
    "    sns.distplot(info['Peptide Length'][v], color=c, ax=ax, kde=False)\n",
    "    ax.spines['top'].set_visible(False)\n",
    "    ax.spines['right'].set_visible(False)\n",
    "    \n",
    "    ax.set_xlabel('')\n",
    "    ax.set_ylabel('')\n",
    "    ax.set_title(v, y=1)\n",
    "    ax.set_xticks([5, 10, 15, 20, 25, 30, 35, 40])\n",
    "\n",
    "    ax.set_xlabel('peptide length\\n(# amino acids)')\n",
    "axs[0].set_ylabel('# of peptides')\n",
    "fig.tight_layout()\n",
    "fig.savefig(r'..\\figures\\FigS1D.png', dpi=1000, bbox_inches='tight')\n",
    "plt.show()"
   ]
  },
  {
   "cell_type": "markdown",
   "id": "0a781e56",
   "metadata": {},
   "source": [
    "### Fig. S1E"
   ]
  },
  {
   "cell_type": "code",
   "execution_count": 12,
   "id": "f6352884",
   "metadata": {},
   "outputs": [
    {
     "data": {
      "image/png": "[encoded data removed]",
      "text/plain": [
       "<Figure size 288x230.4 with 3 Axes>"
      ]
     },
     "metadata": {
      "needs_background": "light"
     },
     "output_type": "display_data"
    }
   ],
   "source": [
    "fig, axs = plt.subplots(ncols=3, figsize = (4, 3.2),)\n",
    "\n",
    "n_pep = info.groupby(['virus', 'Protein Gene', 'Peptide Modified Sequence']).size().groupby(['virus', 'Protein Gene']).size()\n",
    "to_plot = n_pep.groupby('virus').apply(lambda x: x.groupby(x).size()).reset_index()\n",
    "\n",
    "for v, ax, p in zip(['HSV-1', 'HCMV', 'KSHV'], axs, pal):\n",
    "    sns.barplot(data=to_plot[to_plot['virus']==v], x='level_1', y=0, \n",
    "                ax=ax, palette=[p]*4\n",
    "               )\n",
    "    \n",
    "    ax.spines['top'].set_visible(False)\n",
    "    ax.spines['right'].set_visible(False)\n",
    "\n",
    "    ax.set_xlabel('# of peptides\\nper protein')\n",
    "    ax.set_ylabel('')\n",
    "    ax.set_title(v)\n",
    "\n",
    "axs[0].set_ylabel('# of proteins')\n",
    "\n",
    "fig.tight_layout()\n",
    "fig.savefig(r'..\\figures\\FigS1E.png', dpi=1000, bbox_inches='tight')\n",
    "plt.show()"
   ]
  },
  {
   "cell_type": "markdown",
   "id": "29b8e98c",
   "metadata": {},
   "source": [
    "### Fig. S1F"
   ]
  },
  {
   "cell_type": "code",
   "execution_count": 18,
   "id": "14b8d4fa",
   "metadata": {},
   "outputs": [
    {
     "name": "stdout",
     "output_type": "stream",
     "text": [
      "add xticklabels in ppt table\n",
      "\n",
      "Epithelial cells\n",
      "Blood & immune cells\n",
      "Neuronal cells\n",
      "Vascular cells\n",
      "Mesenchymal cells\n",
      "\n",
      "Brain\n",
      "Bone marrow & lymphoid tissues\n",
      "Eye\n",
      "Skin\n",
      "Blood\n",
      "\n"
     ]
    },
    {
     "data": {
      "image/png": "[encoded data removed]",
      "text/plain": [
       "<Figure size 331.2x144 with 2 Axes>"
      ]
     },
     "metadata": {
      "needs_background": "light"
     },
     "output_type": "display_data"
    }
   ],
   "source": [
    "print('add xticklabels in ppt table')\n",
    "print()\n",
    "\n",
    "to_plot = expression[expression.index.get_level_values('family/organ').isin(sel)].stack()\n",
    "to_plot = to_plot.astype(float).apply(np.log2).reset_index()\n",
    "\n",
    "fig, axs = plt.subplots(ncols=2, figsize = (4.6, 2))\n",
    "\n",
    "xlabs_1 = ['Epithelial\\ncells', 'Blood &\\nimmune cells', 'Neuronal\\ncells', 'Vascular\\ncells', 'Mesenchymal\\ncells']\n",
    "xlabs_2 = ['Brain', 'Bone marrow\\n& lymphoid\\ntissues', 'Eye', 'Skin', 'Blood']\n",
    "\n",
    "for (s, data), ax, xlabs in zip(to_plot.groupby('RNA type'), axs, [xlabs_1, xlabs_2]):\n",
    "    sns.barplot(data=data, x='family/organ', y=0,\n",
    "                hue_order = ['TUBA1A', 'MYO5A', 'MYH9'],\n",
    "                hue='Gene', \n",
    "                ax=ax, \n",
    "                ci=None, \n",
    "                palette=pal, \n",
    "                saturation=1, \n",
    "                edgecolor='white', \n",
    "                linewidth=0.5\n",
    "               )\n",
    "    ax.set_title(s)\n",
    "    ax.set_ylabel('')\n",
    "    ax.set_xlabel('')\n",
    "    [print(i._text) for i in ax.get_xticklabels()]\n",
    "    print()\n",
    "    #ax.set_xticklabels(xlabs, rotation = 90, ha='right', va='top')\n",
    "    ax.set_xticklabels([])\n",
    "    \n",
    "    ax.spines['top'].set_visible(False)\n",
    "    ax.spines['right'].set_visible(False)\n",
    "    ax.get_legend().remove()\n",
    "\n",
    "axs[0].set_ylabel('Expression level (log2 NX)')\n",
    "#ax.legend(frameon=False, bbox_to_anchor=(0, 1.2, 0.5, 0.2), ncol=3)\n",
    "fig.tight_layout()\n",
    "fig.savefig(r'..\\figures\\FigS1F.png', dpi=1000, bbox_inches='tight')\n",
    "plt.show()"
   ]
  },
  {
   "cell_type": "code",
   "execution_count": null,
   "id": "e3333da0",
   "metadata": {},
   "outputs": [],
   "source": []
  }
 ],
 "metadata": {
  "kernelspec": {
   "display_name": "Python 3",
   "language": "python",
   "name": "python3"
  },
  "language_info": {
   "codemirror_mode": {
    "name": "ipython",
    "version": 3
   },
   "file_extension": ".py",
   "mimetype": "text/x-python",
   "name": "python",
   "nbconvert_exporter": "python",
   "pygments_lexer": "ipython3",
   "version": "3.8.8"
  }
 },
 "nbformat": 4,
 "nbformat_minor": 5
}
