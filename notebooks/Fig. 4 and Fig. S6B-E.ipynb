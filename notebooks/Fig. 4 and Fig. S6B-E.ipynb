{
 "cells": [
  {
   "cell_type": "code",
   "execution_count": 1,
   "metadata": {},
   "outputs": [],
   "source": [
    "import pandas as pd\n",
    "import numpy as np\n",
    "import seaborn as sns\n",
    "import matplotlib.pyplot as plt\n",
    "import os\n",
    "import scipy.stats as stats\n",
    "\n",
    "# define cmaps for viruses\n",
    "hsv1_palette = sns.light_palette((168/256, 97/256, 92/256), reverse=True, as_cmap=True)\n",
    "hcmv_palette = sns.light_palette((71/256, 103/256, 133/256), reverse=True, as_cmap=True)\n",
    "kshv_palette = sns.light_palette((113/256, 175/256, 71/256), reverse=True, as_cmap=True)\n",
    "\n",
    "pal = ['#af6e69', '#50627c', '#588c4a', '#5c5c5c'] # light palette\n",
    "sns.set_palette(pal)\n",
    "sns.set_context('paper')\n",
    "\n",
    "bright_pal = [pal[0]]+['#3b5f91']+pal[2:]"
   ]
  },
  {
   "cell_type": "markdown",
   "metadata": {},
   "source": [
    "# Load Data"
   ]
  },
  {
   "cell_type": "code",
   "execution_count": 2,
   "metadata": {},
   "outputs": [],
   "source": [
    "def load_herpesvirusPRMreport(\n",
    "    file, \n",
    "    virus, \n",
    "    n_points = 8, \n",
    "    ignore_peptide_note = ['Do not quant', 'do not quant'], \n",
    "    replicate_fmt = 'treatment_timepoint_replicate', \n",
    "    index_cols = ['Protein Gene', 'Protein Accession', 'temporality', 'Peptide Modified Sequence', 'treatment', 'timepoint', 'replicate', 'File Name'],\n",
    "    data_cols = ['Total Area Fragment'],\n",
    "):\n",
    "\n",
    "    df = pd.read_csv(file)\n",
    "    \n",
    "    df['Peptide Retention Time'] = df['Peptide Retention Time'].where(df['Peptide Retention Time'].notnull(), df['Predicted Result Retention Time'])\n",
    "    df['Total Area Fragment'] = df['Total Area Fragment'].where(df['Points Across Peak']>=n_points, np.nan)    \n",
    "    df['Total Area Fragment'] = df['Total Area Fragment'].where(~df['Peptide Note'].isin(ignore_peptide_note), np.nan)\n",
    "    df['Protein Gene'] = df['Protein Gene'].fillna(df['Protein Name'])\n",
    "\n",
    "    temporality = tableS1.loc[virus].set_index('accession')['temporal class']\n",
    "    df['temporality'] = temporality.reindex(df['Protein Accession']).values\n",
    "    df['temporality'] = df['temporality'].fillna('unknown')\n",
    "    \n",
    "    temp = df['Replicate'].str.split('_', expand = True)\n",
    "    temp.columns = replicate_fmt.split('_')\n",
    "    \n",
    "    df = pd.concat([df, temp], axis=1)\n",
    "    \n",
    "    try:\n",
    "        df['timepoint'] = df['timepoint'].str.replace('hpi', '', case=False).str.replace('mock', '0', case=False).fillna('1000000').astype(int)\n",
    "    except:\n",
    "        pass\n",
    "    \n",
    "    df = df[~df.duplicated()]\n",
    "    df = df.set_index(index_cols)[data_cols]\n",
    "    df = df[~df.isnull().all(axis=1)]\n",
    "    \n",
    "    if df.index.duplicated().any():\n",
    "        print('Duplicate entries detected, dropping duplicates')\n",
    "        return df.reset_index().drop_duplicates().set_index(df.index.names).squeeze()\n",
    "    else:\n",
    "        return df\n",
    "    \n",
    "def mean_normalize(df):\n",
    "    return df.apply(lambda x: x/df.mean(axis=1))\n",
    "\n",
    "def compute_CV(df):\n",
    "    return df.std(axis=1)/df.mean(axis=1)\n",
    "\n",
    "def TTEST(data):\n",
    "    x1 = data.columns[0]\n",
    "    x2s = data.columns[1:]\n",
    "    \n",
    "    res = pd.Series({x2: stats.ttest_ind(data[x1], data[x2], nan_policy='omit')[1] for x2 in x2s})\n",
    "    res.name = 'p-value'\n",
    "    res.index.name = 'HPI'\n",
    "    \n",
    "    return res\n",
    "\n",
    "def add_stars(x):\n",
    "    y = x.copy()\n",
    "    y = x.where(x<0.05, '').where(x>0.05, '*').where(x>0.01, '**').where(x>0.001, '***').where(x>0.0001, '****')\n",
    "    \n",
    "    return y\n",
    "\n",
    "def inv_poisson(pct):\n",
    "    MOI = -np.log(1-pct)\n",
    "    multiple = 1-np.exp(-MOI)*(MOI+1)\n",
    "    \n",
    "    return multiple"
   ]
  },
  {
   "cell_type": "code",
   "execution_count": 3,
   "metadata": {},
   "outputs": [],
   "source": [
    "tableS1 = pd.concat({v:pd.read_csv(r'..\\tables\\TableS1{}.csv'.format(l)) for l, v in zip(['A', 'B', 'C'], ['HSV-1','HCMV','KSHV'])}, names = ['virus'])\n",
    "\n",
    "components = tableS1.reset_index()[['accession', 'virion classification*']].set_index('accession').squeeze()\n",
    "temporality = tableS1.reset_index()[['accession', 'temporal class']].set_index('accession').squeeze()\n",
    "components = components[~components.index.duplicated()]\n",
    "temporality = temporality[~temporality.index.duplicated()]"
   ]
  },
  {
   "cell_type": "code",
   "execution_count": 4,
   "metadata": {},
   "outputs": [
    {
     "name": "stdout",
     "output_type": "stream",
     "text": [
      "Duplicate entries detected, dropping duplicates\n",
      "Duplicate entries detected, dropping duplicates\n",
      "Duplicate entries detected, dropping duplicates\n"
     ]
    }
   ],
   "source": [
    "# PRM data\n",
    "folder = r'..\\Skyline_reports'\n",
    "\n",
    "hsv1_ACV1 = load_herpesvirusPRMreport(os.path.join(folder, 'HSV-1_DMSO_ACV_1uM.csv'), 'HSV-1')\n",
    "hsv1_ACV3 = load_herpesvirusPRMreport(os.path.join(folder, 'HSV-1_DMSO_ACV_3uM.csv'), 'HSV-1')\n",
    "hcmv_CDV = load_herpesvirusPRMreport(os.path.join(folder, 'HCMV_CDV.csv'), 'HCMV')\n",
    "\n",
    "all_data = pd.concat([hsv1_ACV1, hsv1_ACV3, hcmv_CDV], keys = ['ACV 1uM', 'ACV 3uM', 'CDV'], names = ['experiment'])\n",
    "filename_mapping = all_data.reset_index()[['experiment', 'treatment', 'timepoint', 'replicate', 'File Name']].drop_duplicates().set_index('File Name')"
   ]
  },
  {
   "cell_type": "code",
   "execution_count": 52,
   "metadata": {},
   "outputs": [],
   "source": [
    "# titer data\n",
    "plaques = pd.read_csv(r'..\\data\\HSV-1_plaque_assay.csv', header = [0, 1, 2], index_col=[0])\n",
    "titers = (1000/plaques['Dilution factor']*plaques['Plaque count']).apply(lambda x: x*1/plaques['vol inoculum'].squeeze())\n",
    "\n",
    "genomes = pd.read_csv(r'..\\data\\HSV-1_HCMV_ACV_CDV_viral_genomes.csv', index_col=[0, 1, 2, 3]).squeeze()\n",
    "genomes.name = '2^-deltaCt'\n",
    "\n",
    "cido_titers = pd.read_csv(r'..\\data\\HCMV_CDV_titers.csv', index_col = [0, 1, 2, 3])\n",
    "cido = cido_titers[((cido_titers['% infected']/100).apply(inv_poisson)<0.05)&(cido_titers['Positive IE1 in Nuclei']>2)]['IU/ml'].apply(np.log2)"
   ]
  },
  {
   "cell_type": "code",
   "execution_count": 83,
   "metadata": {},
   "outputs": [],
   "source": [
    "# TUNEL assay data\n",
    "col_ids = dict(zip(range(1, 11), ['positive control', 'negative control', 'untreated', 'DMSO', 'ACV (1uM)', 'ACV (3uM)', 'CDV (1uM)', 'EX-527 (10uM)', 'CAY10602 (12.5uM)', 'Resveratrol (50uM)']))\n",
    "row_ids = {4:1, 5:2, 6:3}\n",
    "mrc5 = pd.read_csv(r'..\\data\\MRC5_TUNEL.txt', sep='\\t')\n",
    "# mrc5 = pd.read_csv(r'20210629_MAK_MRC5_TUNEL__2021-06-29T10_54_20-Measurement1\\Evaluation1\\Objects_Population - Nuclei.txt', sep='\\t')\n",
    "\n",
    "mrc5['sample'] = mrc5['Column'].map(col_ids)\n",
    "mrc5['replicate'] = mrc5['Row'].map(row_ids)\n",
    "mrc5 = mrc5.set_index(['sample', 'replicate', 'Field', 'Object No'])\n",
    "\n",
    "col_ids = dict(zip(range(1, 8), ['negative control', 'positive control', 'untreated', 'DMSO', 'EX-527 (10uM)', 'CAY10602 (12.5uM)', 'Resveratrol (50uM)']))\n",
    "row_ids = {1:1, 2:2, 3:3}\n",
    "\n",
    "islk = pd.read_csv(r'..\\data\\iSLK219_TUNEL.txt', sep='\\t', skiprows = range(9))\n",
    "\n",
    "islk['sample'] = islk['Column'].map(col_ids)\n",
    "islk['replicate'] = islk['Row'].map(row_ids)\n",
    "islk = islk.set_index(['sample', 'replicate', 'Field', 'Object No'])\n",
    "\n",
    "fluors = pd.concat([mrc5['Nuclei - Fluorescein Intensity in Nucleus Mean'], islk['Nuclei - Fluorescein Intensity in Nucleus Mean']], keys = ['MRC5', 'iSLK.219'], names = ['cell type'])\n",
    "fluors.name = 'OD'\n",
    "\n",
    "meds = fluors.unstack('sample')['positive control'].groupby('cell type').describe()['mean']\n",
    "binary = fluors>300\n",
    "\n",
    "pct_apop = (binary.groupby(['cell type', 'sample', 'replicate']).sum()/binary.groupby(['cell type', 'sample', 'replicate']).size())*100"
   ]
  },
  {
   "cell_type": "markdown",
   "metadata": {},
   "source": [
    "# Normalize Data"
   ]
  },
  {
   "cell_type": "markdown",
   "metadata": {},
   "source": [
    "### MS1 normalization"
   ]
  },
  {
   "cell_type": "code",
   "execution_count": 6,
   "metadata": {},
   "outputs": [],
   "source": [
    "filename = r'..\\MS1_intensities_RawMeat.csv'\n",
    "\n",
    "MS1 = pd.read_csv(filename, index_col=[0]).squeeze()\n",
    "MS1.index = MS1.index+'.raw'\n",
    "MS1 = pd.concat([MS1[MS1.index.isin(all_data.index.get_level_values('File Name').unique())], filename_mapping], axis=1).reset_index().set_index(['experiment', 'treatment', 'timepoint', 'replicate', 'File Name']).squeeze()\n",
    "ratios = MS1.groupby(['experiment', 'replicate']).apply(lambda x: x/x.mean())\n",
    "all_data_adj = all_data.groupby(ratios.index.names).apply(lambda x: x/ratios[x.name]).unstack('File Name').mean(axis=1)\n"
   ]
  },
  {
   "cell_type": "markdown",
   "metadata": {},
   "source": [
    "### Mean normalization"
   ]
  },
  {
   "cell_type": "code",
   "execution_count": 7,
   "metadata": {},
   "outputs": [],
   "source": [
    "cols = ['treatment', 'timepoint']\n",
    "all_data_norm = mean_normalize(all_data_adj.unstack(cols)).stack(cols)\n",
    "all_data_avg = all_data_norm.unstack(['Peptide Modified Sequence']).mean(axis=1)\n",
    "all_data_mean = all_data_avg.unstack(['replicate']).mean(axis=1)"
   ]
  },
  {
   "cell_type": "markdown",
   "metadata": {},
   "source": [
    "# Export Supplemental Tables"
   ]
  },
  {
   "cell_type": "code",
   "execution_count": 8,
   "metadata": {},
   "outputs": [],
   "source": [
    "temp = all_data_norm.T['ACV 1uM'].T.reset_index()\n",
    "temp['treatment'] = temp['treatment'].where(lambda x: x=='DMSO', 'ACV (1uM)')\n",
    "temp = temp.set_index(all_data_norm.index.names[1:]).squeeze().unstack(['treatment', 'timepoint', 'replicate']).T.sort_index().T\n",
    "temp.columns.names = ['treatment', 'time point (HPI)', 'replicate']\n",
    "temp.to_csv(r'..\\tables\\TableS3B.csv')\n",
    "\n",
    "temp = all_data_norm.T['ACV 3uM'].T.reset_index()\n",
    "temp['treatment'] = temp['treatment'].where(lambda x: x=='DMSO', 'ACV (3uM)')\n",
    "temp = temp.set_index(all_data_norm.index.names[1:]).squeeze().unstack(['treatment', 'timepoint', 'replicate']).T.sort_index().T\n",
    "temp.columns.names = ['treatment', 'time point (HPI)', 'replicate']\n",
    "temp.to_csv(r'..\\tables\\TableS3C.csv')\n",
    "\n",
    "temp = all_data_norm.T['CDV'].T.reset_index()\n",
    "temp = temp.set_index(all_data_norm.index.names[1:]).squeeze().unstack(['treatment', 'timepoint', 'replicate']).T.sort_index().T\n",
    "temp.columns.names = ['treatment', 'time point (HPI)', 'replicate']\n",
    "temp.to_csv(r'..\\tables\\TableS3D.csv')"
   ]
  },
  {
   "cell_type": "markdown",
   "metadata": {},
   "source": [
    "# Make Figures"
   ]
  },
  {
   "cell_type": "markdown",
   "metadata": {},
   "source": [
    "### Fig. 4A"
   ]
  },
  {
   "cell_type": "code",
   "execution_count": 9,
   "metadata": {},
   "outputs": [
    {
     "data": {
      "image/png": "[encoded data removed]",
      "text/plain": [
       "<Figure size 172.8x158.4 with 2 Axes>"
      ]
     },
     "metadata": {
      "needs_background": "light"
     },
     "output_type": "display_data"
    }
   ],
   "source": [
    "fig, axs = plt.subplots(figsize = (2.4, 2.2), ncols=2, sharey=False)\n",
    "sns.barplot(data=genomes['HSV-1'].sort_index()[12].reset_index(), x='treatment', y='2^-deltaCt', \n",
    "            ax=axs[0], \n",
    "            palette=hsv1_palette([10, 200]), \n",
    "            order = ['control', 'acyclovir'],\n",
    "            capsize=0.2, errwidth=1.5, saturation=1,\n",
    "            linewidth=1, edgecolor='k')\n",
    "sns.barplot(data=genomes['HCMV'].reset_index(), x='treatment', y='2^-deltaCt', \n",
    "            ax=axs[1], \n",
    "            palette=hcmv_palette([10, 200]), \n",
    "            capsize=0.2, errwidth=1.5, saturation=1,\n",
    "            linewidth=1, edgecolor='k')\n",
    "\n",
    "for ax in axs:\n",
    "    ax.set_xlabel('')\n",
    "    ax.set_ylabel('')\n",
    "    ax.spines['top'].set_visible(False)\n",
    "    ax.spines['right'].set_visible(False)\n",
    "\n",
    "axs[0].set_xticklabels(['CTRL', 'ACV'], rotation=90)\n",
    "axs[1].set_xticklabels(['CTRL', 'CDV'], rotation=90)\n",
    "    \n",
    "axs[0].set_ylabel('viral genomes ($2^{-\\u0394Ct})$')\n",
    "axs[0].set_title('HSV-1\\n12 HPI')\n",
    "axs[1].set_title('HCMV\\n48 HPI')\n",
    "\n",
    "axs[0].text(1, genomes['HSV-1'][12].unstack('treatment')['acyclovir'].mean()+15, add_stars(TTEST(genomes['HSV-1'][12].unstack('treatment'))).values[0], ha='center', fontsize=12)\n",
    "axs[1].text(1, genomes['HCMV'].unstack('treatment')['cidofovir'].mean()+.5, add_stars(TTEST(genomes['HCMV'].unstack('treatment'))).values[0], ha='center', fontsize=12)\n",
    "\n",
    "fig.tight_layout()\n",
    "fig.savefig(r'..\\figures\\Fig4A.png', dpi=1000, bbox_inches='tight')\n",
    "plt.show()"
   ]
  },
  {
   "cell_type": "markdown",
   "metadata": {},
   "source": [
    "### Fig. 4B"
   ]
  },
  {
   "cell_type": "code",
   "execution_count": 77,
   "metadata": {},
   "outputs": [
    {
     "data": {
      "image/png": "[encoded data removed]",
      "text/plain": [
       "<Figure size 172.8x158.4 with 2 Axes>"
      ]
     },
     "metadata": {
      "needs_background": "light"
     },
     "output_type": "display_data"
    }
   ],
   "source": [
    "\n",
    "fig, axs = plt.subplots(figsize = (2.4, 2.2), ncols=2, sharey=False)\n",
    "sns.barplot(data=titers.loc[['DMSO', 'ACV (3uM)'], :].unstack().apply(np.log2).reset_index(), \n",
    "            x='sample', \n",
    "            y=0,\n",
    "            ax=axs[0],\n",
    "            palette=hsv1_palette([10, 200]), \n",
    "            order = ['DMSO', 'ACV (3uM)'],\n",
    "            capsize=0.2, errwidth=1.5, saturation=1,\n",
    "            linewidth=1, edgecolor='k'\n",
    "           )\n",
    "sns.barplot(data=cido.reset_index(), \n",
    "            x='treatment', \n",
    "            y='IU/ml',\n",
    "            ax=axs[1],\n",
    "            palette=hcmv_palette([10, 200]), \n",
    "            capsize=0.2, errwidth=1.5, saturation=1,\n",
    "            linewidth=1, edgecolor='k'\n",
    "           )\n",
    "for ax in axs:\n",
    "    ax.set_xlabel('')\n",
    "    ax.set_ylabel('')\n",
    "    ax.spines['top'].set_visible(False)\n",
    "    ax.spines['right'].set_visible(False)\n",
    "\n",
    "axs[0].set_xticklabels(['CTRL', 'ACV'], rotation=90)\n",
    "axs[1].set_xticklabels(['CTRL', 'CDV'], rotation=90)\n",
    "   \n",
    "axs[0].set_ylabel('virus titer\\n($log_{2}$ PFU/ml or IU/ml)')\n",
    "# axs[1].set_ylabel('virus titer ($log_{2}IU/ml$)')\n",
    "axs[0].set_title('HSV-1\\n20 HPI')\n",
    "axs[1].set_title('HCMV\\n120 HPI')\n",
    "\n",
    "axs[0].text(1, np.log2(titers.loc['ACV (3uM)', :]).mean()+1, add_stars(TTEST(titers.loc[['DMSO', 'ACV (3uM)'], :].unstack().apply(np.log10).unstack('sample'))).values[0], ha='center', fontsize=10)\n",
    "axs[1].text(1, cido['cidofovir'].mean()+.5, add_stars(TTEST(cido.unstack('treatment'))).values[0], ha='center', fontsize=10)\n",
    "    \n",
    "fig.tight_layout()\n",
    "fig.savefig(r'..\\figures\\Fig4B.png', dpi=1000, bbox_inches='tight')\n",
    "plt.show()"
   ]
  },
  {
   "cell_type": "markdown",
   "metadata": {},
   "source": [
    "### Fig. 4C"
   ]
  },
  {
   "cell_type": "code",
   "execution_count": 113,
   "metadata": {},
   "outputs": [
    {
     "data": {
      "image/png": "[encoded data removed]",
      "text/plain": [
       "<Figure size 172.8x93.6 with 2 Axes>"
      ]
     },
     "metadata": {
      "needs_background": "light"
     },
     "output_type": "display_data"
    },
    {
     "data": {
      "image/png": "[encoded data removed]",
      "text/plain": [
       "<Figure size 172.8x108 with 1 Axes>"
      ]
     },
     "metadata": {
      "needs_background": "light"
     },
     "output_type": "display_data"
    }
   ],
   "source": [
    "fig, axs = plt.subplots(ncols=2, figsize=(2.4, 1.3), sharey=True)\n",
    "wide_fig, wide_ax = plt.subplots(figsize=(2.4, 1.5))\n",
    "axs_dict = dict(zip(['IE', 'E', 'L'], [axs.flatten()[0], axs.flatten()[1], wide_ax]))\n",
    "\n",
    "for t, data in all_data_mean.loc['ACV 3uM'][all_data_mean.loc['ACV 3uM'].index.get_level_values('temporality').isin(['IE', 'E', 'L'])].reset_index().groupby('temporality'):\n",
    "    ax = axs_dict[t]\n",
    "    sns.lineplot(data=data, x='timepoint', y=0, \n",
    "                      hue='treatment', palette = [pal[0], pal[-1]], \n",
    "                      hue_order = ['ACV', 'DMSO'], \n",
    "                      ax=ax, err_style='bars', err_kws = {'capsize': 2}\n",
    "                     )\n",
    "    ax.get_legend().remove()\n",
    "    ax.spines['top'].set_visible(False)\n",
    "    ax.spines['right'].set_visible(False)\n",
    "    ax.set_xticks([2, 6, 12, 18])\n",
    "    ax.set_xlabel('HPI')\n",
    "    ax.set_ylabel('norm. abundance', fontsize=8)\n",
    "    ax.set_ylim(-.20, 2)\n",
    "    ax.set_yticks([0, 1, 2])\n",
    "    \n",
    "#     annots = add_stars(data.set_index(all_data_mean.loc['ACV 3uM'].index.names).squeeze().unstack('treatment').groupby('timepoint').apply(TTEST).squeeze())\n",
    "#     ys = data.groupby(['timepoint', 'treatment']).mean().unstack().max(axis=1)\n",
    "    \n",
    "#     for (x, y), s in zip(ys.iteritems(), annots):\n",
    "#         ax.text(x, y+.25, s, ha='center', fontsize=8)\n",
    "\n",
    "wide_ax.set_ylim(-0.2, 2.5)\n",
    "\n",
    "fig.tight_layout()\n",
    "wide_fig.tight_layout()\n",
    "\n",
    "fig.savefig(r'..\\figures\\Fig4C_IE-E.png', dpi=1000, bbox_inches='tight')\n",
    "wide_fig.savefig(r'..\\figures\\Fig4C_L.png', dpi=1000, bbox_inches='tight')\n",
    "plt.show()"
   ]
  },
  {
   "cell_type": "markdown",
   "metadata": {},
   "source": [
    "### Fig. 4D"
   ]
  },
  {
   "cell_type": "code",
   "execution_count": 112,
   "metadata": {},
   "outputs": [
    {
     "data": {
      "image/png": "[encoded data removed]",
      "text/plain": [
       "<Figure size 172.8x230.4 with 4 Axes>"
      ]
     },
     "metadata": {
      "needs_background": "light"
     },
     "output_type": "display_data"
    }
   ],
   "source": [
    "fig, axs = plt.subplots(nrows=2, ncols=2, figsize=(2.4, 3.2), sharey=True)\n",
    "axs_dict = dict(zip(['IE', 'DE', 'LL', 'L'], axs.flatten()))\n",
    "\n",
    "for t, data in all_data_mean.loc['CDV'][all_data_mean.loc['CDV'].index.get_level_values('temporality').isin(['IE', 'DE', 'LL', 'L'])].reset_index().groupby('temporality'):\n",
    "    ax = axs_dict[t]\n",
    "    sns.lineplot(data=data, x='timepoint', y=0, \n",
    "                      hue='treatment', palette = [bright_pal[1], pal[-1]], \n",
    "                      hue_order = ['CDV', 'PBS'], \n",
    "                      ax=ax, err_style='bars', err_kws = {'capsize': 2}\n",
    "                     )\n",
    "    ax.get_legend().remove()\n",
    "    ax.spines['top'].set_visible(False)\n",
    "    ax.spines['right'].set_visible(False)\n",
    "    ax.set_xticks([24, 48, 72, 96, 120])\n",
    "    ax.set_xticklabels([24, 48, 72, 96, 120], rotation=90)\n",
    "    ax.set_xlabel('HPI')\n",
    "    ax.set_ylabel('norm. abundance', fontsize=8)\n",
    "    ax.set_ylim(-.20, 3)\n",
    "    ax.set_yticks([0, 1, 2, 3])\n",
    "    \n",
    "#     annots = add_stars(data.set_index(all_data_mean.loc['CDV'].index.names).squeeze().unstack('treatment').groupby('timepoint').apply(TTEST).squeeze())\n",
    "#     ys = data.set_index(all_data_mean.loc['CDV'].index.names).squeeze().unstack('treatment')['PBS'].groupby('timepoint').apply(lambda x: sns.utils.ci(sns.algorithms.bootstrap(x))[1])\n",
    "    \n",
    "#     for (x, y), s in zip(ys.iteritems(), annots):\n",
    "#         ax.text(x, y+.15, s, ha='center', fontsize=8)\n",
    "\n",
    "fig.tight_layout()\n",
    "plt.subplots_adjust(hspace=1.2)\n",
    "\n",
    "fig.savefig(r'..\\figures\\Fig4D.png', dpi=1000, bbox_inches='tight')\n",
    "plt.show()"
   ]
  },
  {
   "cell_type": "markdown",
   "metadata": {},
   "source": [
    "### Fig. 4E"
   ]
  },
  {
   "cell_type": "code",
   "execution_count": 51,
   "metadata": {},
   "outputs": [
    {
     "name": "stdout",
     "output_type": "stream",
     "text": [
      "2.0631290667449944\n"
     ]
    },
    {
     "data": {
      "image/png": "[encoded data removed]",
      "text/plain": [
       "<Figure size 144x581.04 with 1 Axes>"
      ]
     },
     "metadata": {
      "needs_background": "light"
     },
     "output_type": "display_data"
    }
   ],
   "source": [
    "fig, ax = plt.subplots(figsize = (2, 8.07))\n",
    "\n",
    "cm = sns.light_palette((168/256, 97/256, 92/256), reverse=False, as_cmap=True)\n",
    "cm.set_over((140/256, 79/256, 74/256))\n",
    "cm.set_under((210/256, 210/256, 210/256))\n",
    "\n",
    "data = pd.concat([all_data_mean.loc['ACV 3uM'].unstack(['treatment', 'timepoint'])[all_data_mean.loc['ACV 3uM'].unstack(['treatment', 'timepoint']).index.get_level_values('temporality')==t] for t in ['IE', 'E', 'L']])[['DMSO', 'ACV']]\n",
    "dremel = pd.read_csv(r'..\\data\\Dremel2019_late_classification.csv', index_col=[0, 1]).squeeze().reset_index('gene name', drop=True)\n",
    "data['classification'] = dremel.reindex(data.index, level='Protein Accession').fillna('')\n",
    "data = data.reset_index().set_index(['temporality', 'classification', 'Protein Gene', 'Protein Accession']).sort_index()\n",
    "\n",
    "data = pd.concat([data[data.index.get_level_values('temporality')==t] for t in ['IE', 'E', 'L']], sort=False) \n",
    "\n",
    "sns.heatmap(data.fillna(-1), \n",
    "#             square=True,\n",
    "            cmap=cm, \n",
    "            ax=ax, \n",
    "            vmax=data.melt()['value'].describe(percentiles=[.95])['95%'], \n",
    "            vmin=0,\n",
    "            linewidth=1,\n",
    "            cbar=False,\n",
    "            yticklabels = data.index.get_level_values('Protein Gene')\n",
    "           )\n",
    "print(data.melt()['value'].describe(percentiles=[.95])['95%'],)\n",
    "ax.tick_params(axis='y', size=0)\n",
    "ax.set_xticks([])\n",
    "ax.set_xlabel('')\n",
    "ax.set_ylabel('')\n",
    "\n",
    "# for l in ax.get_yticklabels():\n",
    "#     l.set_color({'':'black', 'gamma-1':(140/256, 79/256, 74/256), 'gamma-2': bright_pal[1]}[data.reset_index().set_index('Protein Gene').loc[l._text, 'classification'].values[0]])\n",
    "\n",
    "fig.tight_layout()\n",
    "fig.savefig(r'..\\figures\\Fig4E_mean_normalized.svg', dpi=1000, bbox_inches='tight')\n",
    "plt.show()"
   ]
  },
  {
   "cell_type": "code",
   "execution_count": 49,
   "metadata": {},
   "outputs": [
    {
     "data": {
      "image/png": "[encoded data removed]",
      "text/plain": [
       "<Figure size 93.6x581.04 with 1 Axes>"
      ]
     },
     "metadata": {
      "needs_background": "light"
     },
     "output_type": "display_data"
    }
   ],
   "source": [
    "fig, ax = plt.subplots(figsize = (1.3, 8.07))\n",
    "\n",
    "div_cmap = sns.blend_palette([tuple(np.array([108, 87, 128])/256), '#FFFFFF', tuple(np.array([176, 106, 32])/256)], as_cmap=True)\n",
    "div_cmap.set_under(tuple(np.array([77, 62, 91])/256))\n",
    "div_cmap.set_over(tuple(np.array([129, 78, 24])/256))\n",
    "\n",
    "# div_cmap = sns.blend_palette([pal[-1], '#FFFFFF', hsv1_palette(0)], as_cmap=True)\n",
    "# div_cmap.set_under('black')\n",
    "# div_cmap.set_over((140/256, 79/256, 74/256))\n",
    "\n",
    "ax.set_facecolor((210/256, 210/256, 210/256))\n",
    "\n",
    "data = pd.concat([all_data_mean.loc['ACV 3uM'].unstack(['treatment', 'timepoint'])[all_data_mean.loc['ACV 3uM'].unstack(['treatment', 'timepoint']).index.get_level_values('temporality')==t] for t in ['IE', 'E', 'L']])[['DMSO', 'ACV']]\n",
    "data = np.log2(data['ACV']/data['DMSO'])\n",
    "# dremel = pd.read_csv(r'..\\data\\Dremel2019_late_classification.csv', index_col=[0, 1]).squeeze().reset_index('gene name', drop=True)\n",
    "data['classification'] = dremel.reindex(data.index, level='Protein Accession').fillna('')\n",
    "data = data.reset_index().set_index(['temporality', 'classification', 'Protein Gene', 'Protein Accession']).sort_index()\n",
    "\n",
    "data = pd.concat([data[data.index.get_level_values('temporality')==t] for t in ['IE', 'E', 'L']], sort=False) \n",
    "\n",
    "sns.heatmap(data, \n",
    "#             square=True,\n",
    "            cmap=div_cmap, \n",
    "            ax=ax, \n",
    "            vmin=-2,\n",
    "            vmax=2,\n",
    "            linewidth=1,\n",
    "            cbar=False,\n",
    "            yticklabels = data.index.get_level_values('Protein Gene')\n",
    "           )\n",
    "ax.tick_params(axis='y', size=0)\n",
    "ax.set_xticks([])\n",
    "ax.set_xlabel('')\n",
    "ax.set_ylabel('')\n",
    "\n",
    "fig.tight_layout()\n",
    "fig.savefig(r'..\\figures\\Fig4E_log2FC.svg', dpi=1000, bbox_inches='tight')\n",
    "plt.show()"
   ]
  },
  {
   "cell_type": "markdown",
   "metadata": {},
   "source": [
    "### Fig. 4F"
   ]
  },
  {
   "cell_type": "code",
   "execution_count": 16,
   "metadata": {},
   "outputs": [
    {
     "name": "stdout",
     "output_type": "stream",
     "text": [
      "2.3975944659373454\n"
     ]
    },
    {
     "data": {
      "image/png": "[encoded data removed]",
      "text/plain": [
       "<Figure size 172.8x770.4 with 1 Axes>"
      ]
     },
     "metadata": {
      "needs_background": "light"
     },
     "output_type": "display_data"
    }
   ],
   "source": [
    "fig, ax = plt.subplots(figsize = (2.4, 10.7))\n",
    "\n",
    "\n",
    "data = pd.concat([all_data_mean.loc['CDV'].unstack(['treatment', 'timepoint'])[all_data_mean.loc['CDV'].unstack(['treatment', 'timepoint']).index.get_level_values('temporality')==t] for t in ['IE', 'DE', 'LL', 'L']])[['PBS', 'CDV']]\n",
    "idx = data.index.names\n",
    "data=data.reset_index()\n",
    "data['Protein Gene']= data['Protein Gene'].str.split('|').apply(lambda x: x[-1]).str.replace('_HCMVA', '')\n",
    "#data['Protein Gene'] = data['Protein Gene'].where(~data['Protein Gene'].str.contains('/'), data['Protein Gene'].str.replace('/', '/\\n'))\n",
    "data = data.set_index(idx)\n",
    "\n",
    "cm = sns.light_palette((71/256, 103/256, 133/256), reverse=False, as_cmap=True)\n",
    "cm.set_over((30/256, 48/256, 72/256))\n",
    "cm.set_under((210/256, 210/256, 210/256))\n",
    "\n",
    "sns.heatmap(data.fillna(-1), \n",
    "            cmap=cm, \n",
    "            ax=ax, \n",
    "            vmax=data.melt()['value'].describe(percentiles=[.95])['95%'], \n",
    "            vmin=0,\n",
    "            linewidth=1,\n",
    "            cbar=False\n",
    "           )\n",
    "\n",
    "print(data.melt()['value'].describe(percentiles=[.95])['95%'],)\n",
    "ax.tick_params(axis='y', size=0)\n",
    "ax.set_yticks(np.linspace(0.5, ax.get_ylim()[0]-0.5, int(ax.get_ylim()[0])))\n",
    "ax.set_yticklabels(data.index.get_level_values('Protein Gene'), fontsize=7)\n",
    "ax.set_xticks([])\n",
    "ax.set_xlabel('')\n",
    "ax.set_ylabel('')\n",
    "\n",
    "fig.tight_layout()\n",
    "fig.savefig(r'..\\figures\\Fig4F_mean_normalized.svg', dpi=1000, bbox_inches='tight')\n",
    "plt.show()"
   ]
  },
  {
   "cell_type": "code",
   "execution_count": 50,
   "metadata": {},
   "outputs": [
    {
     "data": {
      "image/png": "[encoded data removed]",
      "text/plain": [
       "<Figure size 122.4x770.4 with 1 Axes>"
      ]
     },
     "metadata": {
      "needs_background": "light"
     },
     "output_type": "display_data"
    }
   ],
   "source": [
    "fig, ax = plt.subplots(figsize = (1.7, 10.7))\n",
    "\n",
    "\n",
    "data = pd.concat([all_data_mean.loc['CDV'].unstack(['treatment', 'timepoint'])[all_data_mean.loc['CDV'].unstack(['treatment', 'timepoint']).index.get_level_values('temporality')==t] for t in ['IE', 'DE', 'LL', 'L']])[['PBS', 'CDV']]\n",
    "idx = data.index.names\n",
    "data=data.reset_index()\n",
    "data['Protein Gene']= data['Protein Gene'].str.split('|').apply(lambda x: x[-1]).str.replace('_HCMVA', '')\n",
    "#data['Protein Gene'] = data['Protein Gene'].where(~data['Protein Gene'].str.contains('/'), data['Protein Gene'].str.replace('/', '/\\n'))\n",
    "data = data.set_index(idx)\n",
    "data = np.log2(data['CDV']/data['PBS'])\n",
    "\n",
    "div_cmap = sns.blend_palette([tuple(np.array([108, 87, 128])/256), '#FFFFFF', tuple(np.array([176, 106, 32])/256)], as_cmap=True)\n",
    "div_cmap.set_under(tuple(np.array([77, 62, 91])/256))\n",
    "div_cmap.set_over(tuple(np.array([129, 78, 24])/256))\n",
    "\n",
    "# div_cmap = sns.blend_palette([pal[-1], '#FFFFFF', hcmv_palette(0)], as_cmap=True)\n",
    "# div_cmap.set_over((30/256, 48/256, 72/256))\n",
    "# div_cmap.set_under('black')\n",
    "\n",
    "ax.set_facecolor((210/256, 210/256, 210/256))\n",
    "\n",
    "sns.heatmap(data, \n",
    "            cmap=div_cmap, \n",
    "            ax=ax, \n",
    "            vmax=2, \n",
    "            vmin=-2,\n",
    "            linewidth=1,\n",
    "            cbar=False\n",
    "           )\n",
    "\n",
    "ax.tick_params(axis='y', size=0)\n",
    "ax.set_yticks(np.linspace(0.5, ax.get_ylim()[0]-0.5, int(ax.get_ylim()[0])))\n",
    "ax.set_yticklabels(data.index.get_level_values('Protein Gene'), fontsize=7)\n",
    "ax.set_xticks([])\n",
    "ax.set_xlabel('')\n",
    "ax.set_ylabel('')\n",
    "\n",
    "fig.tight_layout()\n",
    "fig.savefig(r'..\\figures\\Fig4F_log2FC.svg', dpi=1000, bbox_inches='tight')\n",
    "plt.show()"
   ]
  },
  {
   "cell_type": "markdown",
   "metadata": {},
   "source": [
    "### Fig. S6B"
   ]
  },
  {
   "cell_type": "code",
   "execution_count": 87,
   "metadata": {},
   "outputs": [
    {
     "data": {
      "image/png": "[encoded data removed]",
      "text/plain": [
       "<Figure size 252x180 with 1 Axes>"
      ]
     },
     "metadata": {
      "needs_background": "light"
     },
     "output_type": "display_data"
    }
   ],
   "source": [
    "mrc5_samples = ['positive control', 'negative control', 'untreated', 'DMSO', 'ACV (1uM)', 'ACV (3uM)', 'CDV (1uM)']\n",
    "cell_type = 'MRC5'\n",
    "x_order = mrc5_samples\n",
    "offset=5\n",
    "n = len(mrc5_samples)\n",
    "\n",
    "fig, ax = plt.subplots(figsize=(3.5, 2.5))\n",
    "\n",
    "sns.barplot(\n",
    "    data=pct_apop[cell_type].reset_index(), \n",
    "    x='sample', \n",
    "    y='OD', \n",
    "    order = x_order,\n",
    "    ax=ax,\n",
    "    color='grey',\n",
    "    capsize=0.2,\n",
    "    errcolor='black',\n",
    "    errwidth=1,\n",
    "    linewidth=1,\n",
    "    edgecolor='k'\n",
    ")\n",
    "\n",
    "ax.set_xticklabels(['positive\\ncontrol', 'negative\\ncontrol', 'untreated', 'DMSO', 'ACV (1uM)', 'ACV (3uM)', 'CDV (1uM)'], rotation=90)\n",
    "ax.set_ylabel('')\n",
    "ax.set_xlabel('')\n",
    "\n",
    "ax.spines['top'].set_visible(False)\n",
    "ax.spines['right'].set_visible(False)\n",
    "\n",
    "ax.text(0, pct_apop[cell_type].groupby('sample').mean().max()+offset, '{:.0f}%'.format(pct_apop[cell_type].groupby('sample').mean().max()), ha='center')\n",
    "\n",
    "for i, x in enumerate(x_order[1:], 1):\n",
    "    ax.text(i, 10, '{:.0f}%'.format(pct_apop[cell_type].groupby('sample').mean()[x]), ha='center')\n",
    "\n",
    "ax.set_xlim(-1, len(x_order))\n",
    "    \n",
    "ax.set_ylim(0, 75)\n",
    "ax.set_yticks([0, 25, 50, 75])\n",
    "ax.set_ylabel('% TUNEL positive')\n",
    "   \n",
    "fig.tight_layout()\n",
    "fig.savefig(r'..\\figures\\FigS6B.png', dpi=1000, bbox_inches='tight')\n",
    "plt.show()"
   ]
  },
  {
   "cell_type": "markdown",
   "metadata": {},
   "source": [
    "### Fig. S6C"
   ]
  },
  {
   "cell_type": "code",
   "execution_count": 106,
   "metadata": {},
   "outputs": [
    {
     "name": "stdout",
     "output_type": "stream",
     "text": [
      "1.8006301365191795\n"
     ]
    },
    {
     "data": {
      "image/png": "[encoded data removed]",
      "text/plain": [
       "<Figure size 223.2x223.2 with 1 Axes>"
      ]
     },
     "metadata": {
      "needs_background": "light"
     },
     "output_type": "display_data"
    }
   ],
   "source": [
    "fig, ax = plt.subplots(figsize = (3.1, 3.1))\n",
    "\n",
    "cm = sns.light_palette((168/256, 97/256, 92/256), reverse=False, as_cmap=True)\n",
    "cm.set_over((140/256, 79/256, 74/256))\n",
    "cm.set_under((210/256, 210/256, 210/256))\n",
    "\n",
    "data = pd.concat([all_data_mean.loc['ACV 1uM'].unstack(['treatment', 'timepoint'])[all_data_mean.loc['ACV 1uM'].unstack(['treatment', 'timepoint']).index.get_level_values('temporality')==t] for t in ['IE', 'E', 'L']])[['DMSO', 'ACV']]\n",
    "\n",
    "sns.heatmap(data, \n",
    "            square=True,\n",
    "            cmap=cm, \n",
    "            ax=ax, \n",
    "            vmax=data.melt()['value'].describe(percentiles=[.95])['95%'], \n",
    "            vmin=0,\n",
    "            linewidth=1,\n",
    "            cbar=False,\n",
    "            yticklabels = data.index.get_level_values('Protein Gene')\n",
    "           )\n",
    "\n",
    "print(data.melt()['value'].describe(percentiles=[.95])['95%'],)\n",
    "\n",
    "ax.tick_params(size=0)\n",
    "ax.set_xticks([])\n",
    "ax.set_xlabel('')\n",
    "ax.set_ylabel('')\n",
    "\n",
    "fig.tight_layout()\n",
    "fig.savefig(r'..\\figures\\FigS6C_mean_normalized.svg', dpi=1000, bbox_inches='tight')\n",
    "plt.show()"
   ]
  },
  {
   "cell_type": "code",
   "execution_count": 107,
   "metadata": {},
   "outputs": [
    {
     "data": {
      "image/png": "[encoded data removed]",
      "text/plain": [
       "<Figure size 223.2x223.2 with 1 Axes>"
      ]
     },
     "metadata": {
      "needs_background": "light"
     },
     "output_type": "display_data"
    }
   ],
   "source": [
    "fig, ax = plt.subplots(figsize = (3.1, 3.1))\n",
    "\n",
    "div_cmap = sns.blend_palette([tuple(np.array([108, 87, 128])/256), '#FFFFFF', tuple(np.array([176, 106, 32])/256)], as_cmap=True)\n",
    "div_cmap.set_under(tuple(np.array([77, 62, 91])/256))\n",
    "div_cmap.set_over(tuple(np.array([129, 78, 24])/256))\n",
    "ax.set_facecolor((210/256, 210/256, 210/256))\n",
    "\n",
    "data = pd.concat([all_data_mean.loc['ACV 1uM'].unstack(['treatment', 'timepoint'])[all_data_mean.loc['ACV 1uM'].unstack(['treatment', 'timepoint']).index.get_level_values('temporality')==t] for t in ['IE', 'E', 'L']])[['DMSO', 'ACV']]\n",
    "data = np.log2(data['ACV']/data['DMSO'])\n",
    "sns.heatmap(data, \n",
    "            cmap=div_cmap, \n",
    "            square=True,\n",
    "            ax=ax, \n",
    "            vmax=2, \n",
    "            vmin=-2,\n",
    "            linewidth=1,\n",
    "            cbar=False,\n",
    "            yticklabels = data.index.get_level_values('Protein Gene')\n",
    "           )\n",
    "\n",
    "ax.tick_params(size=0)\n",
    "ax.set_xticks([])\n",
    "ax.set_xlabel('')\n",
    "ax.set_ylabel('')\n",
    "\n",
    "fig.tight_layout()\n",
    "fig.savefig(r'..\\figures\\FigS6C_log2FC.png', dpi=1000, bbox_inches='tight')\n",
    "plt.show()"
   ]
  },
  {
   "cell_type": "markdown",
   "metadata": {},
   "source": [
    "### Fig. S6D"
   ]
  },
  {
   "cell_type": "code",
   "execution_count": 89,
   "metadata": {},
   "outputs": [
    {
     "data": {
      "image/png": "[encoded data removed]",
      "text/plain": [
       "<Figure size 360x144 with 3 Axes>"
      ]
     },
     "metadata": {
      "needs_background": "light"
     },
     "output_type": "display_data"
    }
   ],
   "source": [
    "fig, axs = plt.subplots(ncols=3, figsize=(5, 2), sharey=True)\n",
    "axs_dict = dict(zip(['IE', 'E', 'L'], axs.flatten()))\n",
    "\n",
    "for t, data in all_data_mean.loc['ACV 1uM'][all_data_mean.loc['ACV 1uM'].index.get_level_values('temporality').isin(['IE', 'E', 'L'])].reset_index().groupby('temporality'):\n",
    "    ax = axs_dict[t]\n",
    "    sns.lineplot(data=data, x='timepoint', y=0, \n",
    "                      hue='treatment', palette = [pal[0], pal[-1]], \n",
    "                      hue_order = ['ACV', 'DMSO'], \n",
    "                      ax=ax, err_style='bars', err_kws = {'capsize': 2}\n",
    "                     )\n",
    "    ax.get_legend().remove()\n",
    "    ax.spines['top'].set_visible(False)\n",
    "    ax.spines['right'].set_visible(False)\n",
    "    ax.set_xticks([2, 6, 12, 18])\n",
    "    ax.set_xlabel('HPI')\n",
    "    ax.set_ylabel('norm. abundance')\n",
    "    ax.set_ylim(-.20, 2.5)\n",
    "    ax.set_yticks([0, 1, 2])\n",
    "    \n",
    "#     annots = add_stars(data.set_index(all_data_mean.loc['ACV 1uM'].index.names).squeeze().unstack('treatment').groupby('timepoint').apply(TTEST).squeeze())\n",
    "#     ys = data.groupby(['timepoint', 'treatment']).mean().unstack().max(axis=1)\n",
    "    \n",
    "#     for (x, y), s in zip(ys.iteritems(), annots):\n",
    "#         ax.text(x, y+.25, s, ha='center', fontsize=8)\n",
    "\n",
    "fig.tight_layout()\n",
    "\n",
    "fig.savefig(r'..\\figures\\FigS6D.png', dpi=1000, bbox_inches='tight')\n",
    "plt.show()"
   ]
  },
  {
   "cell_type": "markdown",
   "metadata": {},
   "source": [
    "### Fig. S6E"
   ]
  },
  {
   "cell_type": "code",
   "execution_count": 98,
   "metadata": {},
   "outputs": [
    {
     "data": {
      "image/png": "[encoded data removed]",
      "text/plain": [
       "<Figure size 122.4x194.4 with 1 Axes>"
      ]
     },
     "metadata": {
      "needs_background": "light"
     },
     "output_type": "display_data"
    }
   ],
   "source": [
    "fig, ax = plt.subplots(figsize = (1.7, 2.7))\n",
    "\n",
    "data=np.log10(titers.loc[['DMSO', 'ACV (1uM)'], :].stack([0, 1]))\n",
    "sns.barplot(data=data.reset_index(), \n",
    "            x='sample', y=0, \n",
    "            ax=ax,\n",
    "            palette=hsv1_palette([10, 200]), \n",
    "            capsize=0.2, errwidth=1.5, saturation=1,\n",
    "            linewidth=1, edgecolor='k', errcolor='k'\n",
    "            )\n",
    "ax.set_ylabel('virus titer ($log_{10}PFU/ml$)')\n",
    "ax.set_title('HSV-1 | 20 HPI', y=1.05)\n",
    "\n",
    "ax.set_xlabel('')\n",
    "ax.set_yticks([0, 2, 4, 6, 8])\n",
    "ax.spines['top'].set_visible(False)\n",
    "ax.spines['right'].set_visible(False)\n",
    "ax.set_xticklabels(['CTRL', 'ACV\\n(1uM)'], va='top')\n",
    "\n",
    "ax.text(1, np.log10(titers.loc['ACV (1uM)', :]).mean()+.4, add_stars(TTEST(titers.loc[['DMSO', 'ACV (1uM)'], :].unstack().apply(np.log10).unstack('sample'))).values[0], ha='center', fontsize=12)\n",
    "\n",
    "    \n",
    "fig.tight_layout()\n",
    "fig.savefig(r'..\\figures\\FigS6E.png', dpi=1000, bbox_inches='tight')\n",
    "plt.show()"
   ]
  },
  {
   "cell_type": "code",
   "execution_count": null,
   "metadata": {},
   "outputs": [],
   "source": []
  }
 ],
 "metadata": {
  "kernelspec": {
   "display_name": "Python 3",
   "language": "python",
   "name": "python3"
  },
  "language_info": {
   "codemirror_mode": {
    "name": "ipython",
    "version": 3
   },
   "file_extension": ".py",
   "mimetype": "text/x-python",
   "name": "python",
   "nbconvert_exporter": "python",
   "pygments_lexer": "ipython3",
   "version": "3.8.8"
  }
 },
 "nbformat": 4,
 "nbformat_minor": 2
}
